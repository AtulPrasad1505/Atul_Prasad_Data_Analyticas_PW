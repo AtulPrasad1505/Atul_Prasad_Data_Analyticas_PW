{
  "nbformat": 4,
  "nbformat_minor": 0,
  "metadata": {
    "colab": {
      "provenance": []
    },
    "kernelspec": {
      "name": "python3",
      "display_name": "Python 3"
    },
    "language_info": {
      "name": "python"
    }
  },
  "cells": [
    {
      "cell_type": "markdown",
      "source": [
        "**Data Types and Structures Questions :**\n",
        "\n",
        "1. What are data structures, and why are they important?\n",
        "   - Data structures are ways to organize and store data so that it can be accessed and modified efficiently. They help optimize performance, allowing faster access, insertion, deletion, and searching of data.Common types include arrays, lists, stacks, queues,etc.\n",
        "\n",
        "2. Explain the difference between mutable and immutable data types with examples?\n",
        "  - Mutable data types whose values can be changed after they are created, eg-List. Immutable data types whose values cannot be changed once they are created eg- Tuples.\n",
        "\n",
        "3. What are the main differences between lists and tuples in Python?\n",
        "  - Lists are mutable, meaning their elements can be changed, added, or removed after creation. Lists are defined using square brackets [].Lists are used when we need a collection that may change over time like appending, removing, or updating elements.\n",
        "  Tuples are immutable, meaning once they are created, their elements cannot be modified, added, or removed. Tuples are defined using parentheses (). Tuples are used when you want to ensure that the data remains constant and won't be altered. Tuples have fewer methods because they cannot be changed, like .count() and .index()\n",
        "\n",
        "4. Describe how dictionaries store data?\n",
        "  - Dictionaries store data in a key-value pair format. The key is unique, and each key maps to a specific value. Each key in a dictionary must be unique. If we try to assign a new value to an existing key, it will overwrite the old value. The keys must be of an immutable data type like strings, numbers, or tuples, but the values can be any data type like lists, strings, other dictionaries, etc.\n",
        "\n",
        "5. Why might you use a set instead of a list in Python?\n",
        "  - Sets are great for operations that require uniqueness and quick membership checking, while lists are more useful when order and indexing matter.Sets are unordered, meaning the order of elements doesn't matter, and we can't access elements by index. If we don't need order and care more about data uniqueness, sets are a good choice. Sets automatically remove duplicates, so you don't need to worry about duplicate values being stored. Sets support operations like union, intersection, difference, and symmetric difference, which are useful when working with groups of data.\n",
        "\n",
        "6. What is a string in Python, and how is it different from a list?\n",
        "  - A String is a sequence of characters, enclosed within single quotes (') or double quotes (\"), eg - name = \"Hello\". It is immutable means once created, the contents of a string cannot be modified. Strings are made up of characters (text), meaning all elements are of the same type. Strings are primarily used for text processing.\n",
        "  A List, on the other hand, is a collection of elements that can hold items of any data type e.g.- numbers, strings, objects.Lists are mutable, so we can change their elements. Lists are used to store collections of items, making them more versatile for complex data manipulation.\n",
        "\n",
        "7. How do tuples ensure data integrity in Python?\n",
        "  - Tuples ensure data integrity in Python by being immutable. Once a tuple is created, its elements cannot be modified, added, or removed. This immutability provides a guarantee that the data in the tuple will remain consistent throughout its lifetime, which can be critical in scenarios where the data must not change. Due to immutability it prevents accidental or intentional modification of the data, reducing the risk of bugs caused by unintentional changes. Unlike lists, which can have their elements modified, tuples provide a read-only structure that ensures the original data remains unaltered.\n",
        "\n",
        "8. What is a hash table, and how does it relate to dictionaries in Python ?\n",
        "  - A hash table is a data structure that provides a way to efficiently store and retrieve data using a key-value pair. It uses a hash function to compute an index for each key, which determines where the corresponding value will be stored in the table.  Dictionaries are implemented as hash tables. They are one of Python’s most efficient and commonly used data structures for mapping keys to values. Dictionaries use hash tables to provide efficient storage and retrieval of key-value pairs, ensuring average performance for most operations. This makes dictionaries an essential tool for managing and organizing data in Python programs.\n",
        "\n",
        "9. Can lists contain different data types in Python?\n",
        "  - Yes, lists in Python can contain elements of different data types. Python lists are highly flexible and can hold a mix of data types, including integers, strings, floats, booleans, other lists, and even custom objects.\n",
        "\n",
        "10. Explain why strings are immutable in Python?\n",
        "  - Strings in Python are immutable, meaning once a string is created, its contents cannot be changed. If we perform an operation that modifies a string, it always creates a new string instead of altering the original.Immutability allows Python to optimize string storage and operations using techniques like string interning.Immutability ensures that strings can be hashed, which is necessary for their use as keys in dictionaries or elements in sets. Since strings are immutable, they can be safely shared across different parts of a program without the risk of being altered.\n",
        "\n",
        "11. What advantages do dictionaries offer over lists for certain tasks?\n",
        "  - Unlike lists, which store elements in a sequential manner, dictionaries store data in key-value pairs, making it easy to retrieve values based on a meaningful key.Modifying or deleting an item in a dictionary is faster compared to a list. With dictionaries, there's no need to remember an index position, as we can access values directly using keys. Since dictionary keys must be unique, they naturally prevent duplicate entries, which can be useful for tasks like counting occurrences of items.\n",
        "\n",
        "12. Describe a scenario where using a tuple would be preferable over a list?\n",
        "  - A tuple would be preferable over a list in scenarios where immutability, performance, or data integrity is important. Due to immutiablity the coordinate values won’t change accidentally after assignment. Tuples are slightly faster than lists because they have less memory overhead. Tuples can be used as dictionary keys or stored in sets, unlike lists.\n",
        "\n",
        "13.  How do sets handle duplicate values in Python?\n",
        "  - Sets automatically eliminate duplicate values because they are unordered collections of unique elements. When you add duplicate elements to a set, Python keeps only one instance of each unique value. When an element is added, Python hashes it and checks if it already exists in the set. If it does exist, Python ignores the duplicate, This behavior makes sets efficient for tasks like removing duplicates from a list.\n",
        "\n",
        "14. How does the “in” keyword work differently for lists and dictionaries ?\n",
        "  - The in keyword in Python is used to check for membership, but it works differently for lists and dictionaries due to their underlying data structures.\n",
        "  When used with a list, 'in' checks if an element exists by scanning each item one by one.\n",
        "  In a dictionary, 'in' checks for the existence of a key, not values.\n",
        "\n",
        "15. Can you modify the elements of a tuple? Explain why or why not?\n",
        "  - No, we cannot modify the elements of a tuple in Python because tuples are immutable. This means that once a tuple is created, its elements cannot be changed, added, or removed. If we need to modify the contents of a tuple, we can convert it to a list, modify it, and then convert it back to a tuple.\n",
        "\n",
        "16.  What is a nested dictionary, and give an example of its use case?\n",
        "  - A nested dictionary is a dictionary that contains another dictionary as a value. This allows you to store structured data in a hierarchical format.\n",
        "  Eg- If we need to store information about multiple students, each with details like name, age, and grades. Instead of using separate dictionaries, you can use a nested dictionary,\n",
        "  students = {\n",
        "    \"student1\": {\"name\": \"Alice\", \"age\": 20, \"grades\": {\"math\": 90, \"science\": 85}},\n",
        "    \"student2\": {\"name\": \"Bob\", \"age\": 22, \"grades\": {\"math\": 88, \"science\": 92}},\n",
        "      }\n",
        "\n",
        "17.  Describe the time complexity of accessing elements in a dictionary ?\n",
        "  - Dictionaries use a hash table as their underlying data structure, which allows for very fast lookups. When we access an element using a key, Python computes the hash value of the key and uses this hash to directly look up the corresponding value in the table. This hashing mechanism ensures that the dictionary lookup is generally fast and occurs in constant time.\n",
        "\n",
        "18. In what situations are lists preferred over dictionaries?\n",
        "  - Lists are preferred over dictionaries in certain situations where the data is ordered, the key-value pair structure is unnecessary, and we don’t need fast lookups by key. Lists allow duplicate values while dictionaries require unique keys. If we need to store multiple instances of the same item, a list is the way to go. If we don’t need to associate data with specific keys, and  just working with an ordered collection of items, a list is simpler and more straightforward. eg - Storing a collection of numbers, strings, or objects without any need for unique identifiers. Lists are well-suited for tasks where you might need to sort elements, append new items, or pop items from either end, as they are designed for efficient handling of ordered collections.\n",
        "\n",
        "19.  Why are dictionaries considered unordered, and how does that affect data retrieval?\n",
        "  - Dictionaries are unordered because their items are stored in memory using hash tables. The main advantage of the unordered nature is that lookup times are extremely fast, Data can be retrieved by key in constant time without concern for the order. If you don't care about the order and just need fast access by key, dictionaries are ideal.\n",
        "\n",
        "20. Explain the difference between a list and a dictionary in terms of data retrieval?\n",
        "  - The main difference between a list and a dictionary in terms of data retrieval lies primarily in the way data is stored and accessed.\n",
        "  \n",
        "  A List is an ordered collection that stores elements based on their position or index. Each element is accessible by its index. The index determines the position of the element in the list. Lists maintain the insertion order and access elements sequentially. If the order matters, lists are a good choice.We must know the index of the item you want to retrieve. Lists don’t use keys, so if you don’t know the index, we must search through the list to find the value, which takes time complexity in the worst case.\n",
        "  \n",
        "  A dictionary is an unordered collection that stores data in key-value pairs. Each value is associated with a unique key. To access an element in a dictionary, you use its key. The key allows you to retrieve the associated value directly. dictionaries also maintain the insertion order of key-value pairs, but they are unordered in the sense that data is not accessed by position but by key. You access data via unique keys, making it much easier to retrieve a value directly. Even if the dictionary has many items, accessing by key is always, making it more efficient for lookup tasks.\n",
        "\n",
        "\n"
      ],
      "metadata": {
        "id": "aNRyeRpj05Al"
      }
    },
    {
      "cell_type": "code",
      "source": [
        "from abc import ABC\n",
        "#Practical Questions:\n",
        "\n",
        "\n",
        " # 1. Write a code to create a string with your name and print it..\n",
        "\n",
        "A = \"Atul\"\n",
        "print(A)\n",
        "\n"
      ],
      "metadata": {
        "id": "taqydqTJPd8d",
        "colab": {
          "base_uri": "https://localhost:8080/"
        },
        "outputId": "071ee171-f8cb-43bb-aa39-53094b67634b"
      },
      "execution_count": 8,
      "outputs": [
        {
          "output_type": "stream",
          "name": "stdout",
          "text": [
            "Atul\n"
          ]
        }
      ]
    },
    {
      "cell_type": "code",
      "source": [
        "# 2. Write a code to find the length of the string \"Hello World\"?\n",
        "\n",
        "a=\"Hello World\"\n",
        "len(a)\n"
      ],
      "metadata": {
        "colab": {
          "base_uri": "https://localhost:8080/"
        },
        "id": "yBcb5nTCAaNG",
        "outputId": "72781306-d659-4817-cead-ac9583651502"
      },
      "execution_count": 10,
      "outputs": [
        {
          "output_type": "execute_result",
          "data": {
            "text/plain": [
              "11"
            ]
          },
          "metadata": {},
          "execution_count": 10
        }
      ]
    },
    {
      "cell_type": "code",
      "source": [
        "# 3. Write a code to slice the first 3 characters from the string \"Python Programming\"?\n",
        "\n",
        "a=\"Python Programming\"\n",
        "b=a[:3]\n",
        "print(b)\n"
      ],
      "metadata": {
        "colab": {
          "base_uri": "https://localhost:8080/"
        },
        "id": "VB1mrub-AgZE",
        "outputId": "ef5e94c4-7a50-4e3b-e1bc-82fefb2a8dd7"
      },
      "execution_count": 12,
      "outputs": [
        {
          "output_type": "stream",
          "name": "stdout",
          "text": [
            "Pyt\n"
          ]
        }
      ]
    },
    {
      "cell_type": "code",
      "source": [
        "# 4. Write a code to convert the string \"hello\" to uppercase?\n",
        "\n",
        "a=\"hello\"\n",
        "b= a.upper()\n",
        "print(b)"
      ],
      "metadata": {
        "colab": {
          "base_uri": "https://localhost:8080/"
        },
        "id": "WMxpQ8jmBxfM",
        "outputId": "2220ba06-027d-4681-ac19-b7ffb596d180"
      },
      "execution_count": 15,
      "outputs": [
        {
          "output_type": "stream",
          "name": "stdout",
          "text": [
            "HELLO\n"
          ]
        }
      ]
    },
    {
      "cell_type": "code",
      "source": [
        "\n",
        "# 5. Write a code to replace the word \"apple\" with \"orange\" in the string \"I like apple\"?\n",
        "\n",
        "a=\"I like apple\"\n",
        "b= a.replace('apple', 'orange')\n",
        "print(b)"
      ],
      "metadata": {
        "colab": {
          "base_uri": "https://localhost:8080/"
        },
        "id": "Ek5tbQC_Cmdq",
        "outputId": "f902df99-e448-4b2d-acf9-5f786b075601"
      },
      "execution_count": 22,
      "outputs": [
        {
          "output_type": "stream",
          "name": "stdout",
          "text": [
            "I like orange\n"
          ]
        }
      ]
    },
    {
      "cell_type": "code",
      "source": [
        "# 6. Write a code to create a list with numbers 1 to 5 and print it?\n",
        "\n",
        "l=[1, 2, 3, 4, 5]\n",
        "print(l)\n"
      ],
      "metadata": {
        "colab": {
          "base_uri": "https://localhost:8080/"
        },
        "id": "LWP4esWwFYlh",
        "outputId": "a3b35b6b-89fc-4613-bb56-8a2a90bdfdfc"
      },
      "execution_count": 26,
      "outputs": [
        {
          "output_type": "stream",
          "name": "stdout",
          "text": [
            "[1, 2, 3, 4, 5]\n"
          ]
        }
      ]
    },
    {
      "cell_type": "code",
      "source": [
        "# 7. Write a code to append the number 10 to the list [1, 2, 3, 4]?\n",
        "\n",
        "l= [1, 2, 3, 4]\n",
        "l.append(10)\n",
        "print(l)"
      ],
      "metadata": {
        "colab": {
          "base_uri": "https://localhost:8080/"
        },
        "id": "YzXhk8kgFw3o",
        "outputId": "c57ced7c-6d5a-4899-8dcf-e7a35904e87d"
      },
      "execution_count": 29,
      "outputs": [
        {
          "output_type": "stream",
          "name": "stdout",
          "text": [
            "[1, 2, 3, 4, 10]\n"
          ]
        }
      ]
    },
    {
      "cell_type": "code",
      "source": [
        "# 8. Write a code to remove the number 3 from the list [1, 2, 3, 4, 5]?\n",
        "\n",
        "l=[1, 2, 3, 4, 5]\n",
        "l.remove(3)\n",
        "print(l)\n",
        "\n"
      ],
      "metadata": {
        "colab": {
          "base_uri": "https://localhost:8080/"
        },
        "id": "MUNO9w7oGApq",
        "outputId": "1489ecdd-c5d8-4f8c-9653-0ed8ba17d604"
      },
      "execution_count": 33,
      "outputs": [
        {
          "output_type": "stream",
          "name": "stdout",
          "text": [
            "[1, 2, 4, 5]\n"
          ]
        }
      ]
    },
    {
      "cell_type": "code",
      "source": [
        "# 9. Write a code to access the second element in the list ['a', 'b', 'c', 'd']?\n",
        "\n",
        "l= ['a', 'b', 'c', 'd']\n",
        "print(l[1])\n"
      ],
      "metadata": {
        "colab": {
          "base_uri": "https://localhost:8080/"
        },
        "id": "iKLAkNjcGomT",
        "outputId": "77a8ded2-8a68-4b46-92d3-762178a9ed9f"
      },
      "execution_count": 35,
      "outputs": [
        {
          "output_type": "stream",
          "name": "stdout",
          "text": [
            "b\n"
          ]
        }
      ]
    },
    {
      "cell_type": "code",
      "source": [
        "# 10.  Write a code to reverse the list [10, 20, 30, 40, 50] ?\n",
        "\n",
        "l=[10, 20, 30, 40, 50]\n",
        "b= l.reverse()\n",
        "print(l)\n",
        "\n",
        "\n"
      ],
      "metadata": {
        "colab": {
          "base_uri": "https://localhost:8080/"
        },
        "id": "dd3jXAofG1Pt",
        "outputId": "1caed368-15e9-4ac8-adbe-e8e41997d395"
      },
      "execution_count": 38,
      "outputs": [
        {
          "output_type": "stream",
          "name": "stdout",
          "text": [
            "[50, 40, 30, 20, 10]\n"
          ]
        }
      ]
    },
    {
      "cell_type": "code",
      "source": [
        "# 11.  Write a code to create a tuple with the elements 10, 20, 30 and print it?\n",
        "\n",
        "t=(10, 20, 30)\n",
        "print(t)\n",
        "\n",
        "\n"
      ],
      "metadata": {
        "colab": {
          "base_uri": "https://localhost:8080/"
        },
        "id": "Sq0ELXTJHez7",
        "outputId": "8c75f16f-4630-432c-a71b-7514c514c33f"
      },
      "execution_count": 40,
      "outputs": [
        {
          "output_type": "stream",
          "name": "stdout",
          "text": [
            "(10, 20, 30)\n"
          ]
        }
      ]
    },
    {
      "cell_type": "code",
      "source": [
        "# 12.  Write a code to access the first element of the tuple ('apple', 'banana', 'cherry')?\n",
        "t=('apple', 'banana', 'cherry')\n",
        "print(t[0])\n",
        "\n"
      ],
      "metadata": {
        "colab": {
          "base_uri": "https://localhost:8080/"
        },
        "id": "oqNPaQoOKehj",
        "outputId": "0f75c38d-4b06-43da-96a1-c8bc58782a6d"
      },
      "execution_count": 42,
      "outputs": [
        {
          "output_type": "stream",
          "name": "stdout",
          "text": [
            "apple\n"
          ]
        }
      ]
    },
    {
      "cell_type": "code",
      "source": [
        "#13. Write a code to count how many times the number 2 appears in the tuple (1, 2, 3, 2, 4, 2)?\n",
        "\n",
        "t=(1, 2, 3, 2, 4, 2)\n",
        "n=t.count(2)\n",
        "print(n)"
      ],
      "metadata": {
        "colab": {
          "base_uri": "https://localhost:8080/"
        },
        "id": "ut1rlVg_MDPp",
        "outputId": "5773af3d-552d-4fb9-f412-afd83aefcca2"
      },
      "execution_count": 45,
      "outputs": [
        {
          "output_type": "stream",
          "name": "stdout",
          "text": [
            "3\n"
          ]
        }
      ]
    },
    {
      "cell_type": "code",
      "source": [
        "# 14. Write a code to find the index of the element \"cat\" in the tuple ('dog', 'cat', 'rabbit')?\n",
        "\n",
        "t=('dog', 'cat', 'rabbit')\n",
        "i= t.index('cat')\n",
        "print(i)\n",
        "\n",
        "\n"
      ],
      "metadata": {
        "colab": {
          "base_uri": "https://localhost:8080/"
        },
        "id": "hZI54KHdMcHz",
        "outputId": "b1f31ba3-35b9-487b-fced-7110afd2c01a"
      },
      "execution_count": 48,
      "outputs": [
        {
          "output_type": "stream",
          "name": "stdout",
          "text": [
            "1\n"
          ]
        }
      ]
    },
    {
      "cell_type": "code",
      "source": [
        "# 15. Write a code to check if the element \"banana\" is in the tuple ('apple', 'orange', 'banana')?\n",
        "t=('apple', 'orange', 'banana')\n",
        "if 'banana' in t:\n",
        "    print(\"Banana is in the tuple!\")\n",
        "else:\n",
        "    print(\"Banana is not in the tuple.\")\n"
      ],
      "metadata": {
        "colab": {
          "base_uri": "https://localhost:8080/"
        },
        "id": "b7CNyHMVMgZI",
        "outputId": "020bd9c5-61ac-4c5d-e4db-471c0ddf9880"
      },
      "execution_count": 50,
      "outputs": [
        {
          "output_type": "stream",
          "name": "stdout",
          "text": [
            "Banana is in the tuple!\n"
          ]
        }
      ]
    },
    {
      "cell_type": "code",
      "source": [
        "# 16. Write a code to create a set with the elements 1, 2, 3, 4, 5 and print it?\n",
        "\n",
        "s={1, 2, 3, 4, 5}\n",
        "print(s)\n"
      ],
      "metadata": {
        "colab": {
          "base_uri": "https://localhost:8080/"
        },
        "id": "mev52ixZQmZu",
        "outputId": "3516a660-c986-4fb1-9a07-294cbbceba93"
      },
      "execution_count": 54,
      "outputs": [
        {
          "output_type": "stream",
          "name": "stdout",
          "text": [
            "{1, 2, 3, 4, 5}\n"
          ]
        }
      ]
    },
    {
      "cell_type": "code",
      "source": [
        "# 17.  Write a code to add the element 6 to the set {1, 2, 3, 4}?\n",
        "\n",
        "s={1, 2, 3, 4}\n",
        "n= s.add(6)\n",
        "print(s)"
      ],
      "metadata": {
        "colab": {
          "base_uri": "https://localhost:8080/"
        },
        "id": "gAvHjWZHRmPc",
        "outputId": "f82ab6f4-db8b-41e5-dcad-c47a776f6e84"
      },
      "execution_count": 56,
      "outputs": [
        {
          "output_type": "stream",
          "name": "stdout",
          "text": [
            "{1, 2, 3, 4, 6}\n"
          ]
        }
      ]
    },
    {
      "cell_type": "code",
      "source": [
        "# 18. Write a code to create a tuple with the elements 10, 20, 30 and print it?\n",
        "\n",
        "t=(10, 20, 30)\n",
        "print(t)\n",
        "\n"
      ],
      "metadata": {
        "colab": {
          "base_uri": "https://localhost:8080/"
        },
        "id": "VkKPOHT-R9jX",
        "outputId": "2e24dd48-d704-41b7-ae3b-5bd20ef92599"
      },
      "execution_count": 58,
      "outputs": [
        {
          "output_type": "stream",
          "name": "stdout",
          "text": [
            "(10, 20, 30)\n"
          ]
        }
      ]
    },
    {
      "cell_type": "code",
      "source": [
        "# 19. Write a code to access the first element of the tuple ('apple', 'banana', 'cherry')?\n",
        "\n",
        "t=('apple', 'banana', 'cherry')\n",
        "print(t[0])\n"
      ],
      "metadata": {
        "colab": {
          "base_uri": "https://localhost:8080/"
        },
        "id": "PTQLf9haTzPR",
        "outputId": "9e1d0ad0-0747-4d4d-eaf9-aa8156319df2"
      },
      "execution_count": 60,
      "outputs": [
        {
          "output_type": "stream",
          "name": "stdout",
          "text": [
            "apple\n"
          ]
        }
      ]
    },
    {
      "cell_type": "code",
      "source": [
        "# 20. Write a code to count how many times the number 2 appears in the tuple (1, 2, 3, 2, 4, 2)?\n",
        "t=(1, 2, 3, 2, 4, 2)\n",
        "n=t.count(2)\n",
        "print(n)\n",
        "\n"
      ],
      "metadata": {
        "colab": {
          "base_uri": "https://localhost:8080/"
        },
        "id": "49CRQJfRT_X2",
        "outputId": "cdbdebfb-08b2-4332-8841-a5c44576b12c"
      },
      "execution_count": 63,
      "outputs": [
        {
          "output_type": "stream",
          "name": "stdout",
          "text": [
            "3\n"
          ]
        }
      ]
    },
    {
      "cell_type": "code",
      "source": [
        "# 21. Write a code to find the index of the element \"cat\" in the tuple ('dog', 'cat', 'rabbit')?\n",
        "\n",
        "t=('dog', 'cat', 'rabbit')\n",
        "i= t.index('cat')\n",
        "print(i)\n"
      ],
      "metadata": {
        "colab": {
          "base_uri": "https://localhost:8080/"
        },
        "id": "ticUjbflUM7W",
        "outputId": "c2d867ac-0d60-41b0-825c-f5fcf46e71cb"
      },
      "execution_count": 65,
      "outputs": [
        {
          "output_type": "stream",
          "name": "stdout",
          "text": [
            "1\n"
          ]
        }
      ]
    },
    {
      "cell_type": "code",
      "source": [
        "# 22. Write a code to check if the element \"banana\" is in the tuple ('apple', 'orange', 'banana')?\n",
        "\n",
        "t=('apple', 'orange', 'banana')\n",
        "if 'banana' in t:\n",
        "    print(\"Banana is in the tuple!\")\n",
        "else:\n",
        "    print(\"Banana is not in the tuple.\")\n"
      ],
      "metadata": {
        "colab": {
          "base_uri": "https://localhost:8080/"
        },
        "id": "3vhSYm1-UVK5",
        "outputId": "dc49b2b9-6502-4546-9ebd-ba58be396d59"
      },
      "execution_count": 67,
      "outputs": [
        {
          "output_type": "stream",
          "name": "stdout",
          "text": [
            "Banana is in the tuple!\n"
          ]
        }
      ]
    },
    {
      "cell_type": "code",
      "source": [
        "# 23. Write a code to create a set with the elements 1, 2, 3, 4, 5 and print it?\n",
        "\n",
        "s={1, 2, 3, 4, 5}\n",
        "print(s)\n"
      ],
      "metadata": {
        "colab": {
          "base_uri": "https://localhost:8080/"
        },
        "id": "0Hy7U_qMUfkZ",
        "outputId": "b9bfbd53-f258-411c-d870-f33b779eb218"
      },
      "execution_count": 69,
      "outputs": [
        {
          "output_type": "stream",
          "name": "stdout",
          "text": [
            "{1, 2, 3, 4, 5}\n"
          ]
        }
      ]
    },
    {
      "cell_type": "code",
      "source": [
        "# 24. Write a code to add the element 6 to the set {1, 2, 3, 4}?\n",
        "\n",
        "s={1, 2, 3, 4}\n",
        "n= s.add(6)\n",
        "print(s)"
      ],
      "metadata": {
        "colab": {
          "base_uri": "https://localhost:8080/"
        },
        "id": "LAm9lOmPUtAf",
        "outputId": "443233f8-75fd-4310-8ca6-83c516d619e6"
      },
      "execution_count": 70,
      "outputs": [
        {
          "output_type": "stream",
          "name": "stdout",
          "text": [
            "{1, 2, 3, 4, 6}\n"
          ]
        }
      ]
    }
  ]
}