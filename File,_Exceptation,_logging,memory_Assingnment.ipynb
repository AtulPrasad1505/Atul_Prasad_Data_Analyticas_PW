{
  "nbformat": 4,
  "nbformat_minor": 0,
  "metadata": {
    "colab": {
      "provenance": []
    },
    "kernelspec": {
      "name": "python3",
      "display_name": "Python 3"
    },
    "language_info": {
      "name": "python"
    }
  },
  "cells": [
    {
      "cell_type": "markdown",
      "source": [
        "1. What is the difference between interpreted and compiled languages?\n",
        "  - 1. Interpreted language: The source code is executed line by line by an interpreter without producing a separate machine code file. Every time the program runs, the interpreter translates the code on the fly.\n",
        "    2. Compiled language: The source code is translated into machine code (binary executable) by a compile before execution. This machine code runs directly on the processor without requiring further translation.\n",
        "\n",
        "\n",
        "2. What is exception handling in Python?\n",
        "  - Exception handling in Python is a mechanism to handle runtime errors gracefully and prevent the program from crashing. It allows you to catch and manage errors using try-except blocks.\n",
        "\n",
        "\n",
        "3. What is the purpose of the finally block in exception handling?\n",
        "  - The finally block in Python is used to execute code regardless of whether an exception occurs or not. It is commonly used for cleanup operations, such as closing files, releasing resources, or disconnecting from a database.\n",
        "\n",
        "\n",
        "4. What is logging in Python?\n",
        "  - Logging in Python is used to track events that happen when a program runs. It helps with debugging, monitoring, and troubleshooting by recording messages about program execution.Instead of using print(), logging provides a more flexible way to handle messages based on severity levels.\n",
        "  \n",
        "5. What is the significance of the __del__ method in Python?\n",
        "  - The __del__ method in Python is a destructor method that is called when an object is about to be destroyed  when it is garbage collected. It allows you to clean up resources such as closing files, releasing memory, or disconnecting from databases before the object is deleted.\n",
        "  \n",
        "6.  What is the difference between import and from ... import in Python?\n",
        "  - This are the modules of the Python\n",
        "    1. import module : Imports the entire module. we must use the module name as a prefix when accessing functions, classes, or variables. use import module when working with large modules to avoid name conflicts.\n",
        "    2. from module : Imports specific functions, classes, or variables directly into the script. we can use them without the module name prefix. use from module import name when we only need a few functions and want cleaner code.\n",
        "\n",
        "\n",
        "7.  How can you handle multiple exceptions in Python?\n",
        "  - In Python, We can handle multiple exceptions using different approaches, depending on your needs. Here are some common ways:\n",
        "    1. Using Multiple except Blocks – Handle different exceptions separately by defining multiple except blocks for specific error types.\n",
        "    2. Using a Single except with Multiple Exceptions – Use a tuple to catch multiple exception types in a single except block.\n",
        "\n",
        "    3. Using a Generic except Block – Catch all exceptions using except Exception, but this should be used cautiously to avoid hiding unexpected errors.\n",
        "\n",
        "    4. Using else with try-except – The else block runs if no exception occurs, allowing for clean execution handling.\n",
        "\n",
        "    5. Using finally Block – The finally block executes regardless of whether an exception occurs or not, making it useful for cleanup operations (e.g., closing files, releasing resources).\n",
        "\n",
        "    6. Raising Exceptions (raise) – Custom exceptions can be raised manually using the raise keyword for better control over error handling.\n",
        "\n",
        "8.  What is the purpose of the with statement when handling files in Python?\n",
        "  - The with statement is used for automatic resource management, particularly for handling files. It ensures that files are properly opened and closed, even if an error occurs during execution. The with statement is the best practice for file handling in Python, as it simplifies code, improves readability, and ensures proper resource management.\n",
        "\n",
        "9.  What is the difference between multithreading and multiprocessing?\n",
        "  -  Multithreading and multiprocessing are two techniques used to execute multiple tasks concurrently to improve performance.\n",
        "    1. Multithreading: Uses multiple threads within the same process. Achieves concurrency (tasks appear to run simultaneously). Threads share the same memory space. Affected by Python’s GIL, so only one thread executes Python bytecode at a time.\n",
        "    2. Multiprocessing : Uses multiple processes, each with its own memory space. Achieves true parallelism (tasks run simultaneously on multiple CPU cores). Each process has its own independent memory. Bypasses GIL, allowing true parallel execution.\n",
        "\n",
        "10. What are the advantages of using logging in a program?\n",
        "  - Logging is an essential part of software development that helps track events, errors, and system behavior.\n",
        "      Below  are the key benefits of using logging in a program:\n",
        "      1. Debugging and Troubleshooting\n",
        "      2. Monitoring and Maintenance\n",
        "      3. Error Tracking Without Crashing the Program.\n",
        "      4. Provides Insights for Optimization.\n",
        "      5. Improves Security.\n",
        "      6. Stores Important Data for Future Reference.\n",
        "      7. Flexible Log Levels.\n",
        "      8. Easier Collaboration in Team Development.\n",
        "\n",
        "11. What is memory management in Python?\n",
        "  - Memory management in Python refers to how Python allocates, uses, and releases memory to ensure efficient execution of programs. It is handled automatically by Python’s built-in memory manager and garbage collector.\n",
        "\n",
        "12.  What are the basic steps involved in exception handling in Python?\n",
        "  - Exception handling in Python is a mechanism to handle runtime errors gracefully and prevent the program from crashing. It allows you to catch and manage errors using try-except blocks. Exception handling in Python follows a structured approach to detect, handle, and recover from runtime errors without crashing the program.\n",
        "    1. try – Place risky code inside the try block.\n",
        "    2. except – Handle specific exceptions or use a generic handler.\n",
        "    3. else – Execute code only if no exception occurs.\n",
        "    4. finally – Run cleanup code regardless of an exception.\n",
        "    5. raise – Manually raise exceptions when needed.\n",
        "\n",
        "13.  Why is memory management important in Python?\n",
        "  - Memory management in Python is crucial for ensuring efficient program execution, preventing memory leaks, and optimizing resource usage. Since Python is a high-level, dynamically-typed language, its automatic memory handling is a key factor in performance and reliability.\n",
        "    * Reasons Why Memory Management is Important:\n",
        "    1. Prevents Memory Leaks and unnecessary memory usage.\n",
        "    2. Optimizing performance for large-scale applications.\n",
        "    3. Ensuring stability in long-running programs.\n",
        "    4. Handling complex data structures efficiently.\n",
        "\n",
        "14. What is the role of try and except in exception handling?\n",
        "  - In Python, try and except are fundamental parts of exception handling, allowing programs to catch and manage errors gracefully instead of crashing.\n",
        "    1. try Block: Detects Errors - The try block contains the code that might raise an exception. If an error occurs, execution immediately stops, and Python jumps to the except block.\n",
        "    2. except Block: Handles Errors - The except block defines how to handle specific exceptions. If an exception occurs in the try block, the corresponding except block executes.\n",
        "\n",
        "15.  How does Python's garbage collection system work?\n",
        "  - Python’s garbage collection (GC) system is responsible for automatically managing memory by reclaiming unused objects. This prevents memory leaks and optimizes performance.\n",
        "    1. Reference counting immediately deletes unused objects.\n",
        "    2. Garbage collector removes circular references.\n",
        "    3. Generational GC optimizes performance by collecting older objects less frequently.\n",
        "    4. Can be manually controlled for efficiency.\n",
        "\n",
        "16. What is the purpose of the else block in exception handling?\n",
        "  - The else block in Python exception handling is used to execute code only if no exceptions occur in the try block. It helps separate normal execution logic from error-handling code, making the program more readable and structured.\n",
        "\n",
        "17.  What are the common logging levels in Python?\n",
        "  - Python provides five standard logging levels to categorize the severity of log messages. Each level has a corresponding numeric value:\n",
        "    1. Use DEBUG for troubleshooting during development.\n",
        "    2. Use INFO for tracking normal program execution.\n",
        "    3. Use WARNING when something unexpected happens but doesn’t stop execution.\n",
        "    4. Use ERROR when the program encounters an issue that prevents functionality.\n",
        "    5. Use CRITICAL for serious failures that may crash the system.\n",
        "\n",
        "18. What is the difference between os.fork() and multiprocessing in Python?\n",
        "  - Both os.fork() and the multiprocessing module are used to create new processes in Python, but they work differently and have distinct use cases.\n",
        "    1. os.fork() : Creates a child process by duplicating the parent process.Works only on Unix-based systems (Linux & macOS, not Windows). The child process is an exact copy of the parent. Uses shared memory, which can cause issues if not handled properly.\n",
        "    2. multiprocessing : Provides a cross-platform way to create new processes. Each process gets its own memory space (no shared memory issues). Supports process pools, queues, and pipes for communication. Bypasses Python’s Global Interpreter Lock (GIL), enabling true parallel execution.\n",
        "\n",
        "19.  What is the importance of closing a file in Python?\n",
        "  - Closing a file in Python is essential for proper resource management and data integrity. When a file is opened using open(), it occupies system resources, and failing to close it can lead to issues like memory leaks, data corruption, and unpredictable program behavior. Always close files manually or use the with statement to handle it automatically. Helps avoid file locking issues and ensures data is properly saved.\n",
        "\n",
        "\n",
        "20. What is the difference between file.read() and file.readline() in Python?\n",
        "  - Both file.read() and file.readline() are used to read data from a file, but they differ in how much data they read at a time.\n",
        "    1. ile.read() : Reads the entire file as a single string (default behavior). Can also read a specified number of bytes if an argument is provided. Use file.read() when you need to read the entire file or a large chunk of text.\n",
        "    2. file.readline() : Reads only one line from the file at a time. Stops reading when it encounters a newline (\\n). Useful for processing large files line by line. Use file.readline() when reading files line by line to save memory.\n",
        "\n",
        "21.  What is the logging module in Python used for?\n",
        "  - The logging module in Python is used for tracking events, debugging, and monitoring applications by recording messages with different severity levels. It helps developers log errors, warnings, and other informational messages for troubleshooting and system analysis. The logging module tracks and records application events. It helps in debugging, monitoring, and security analysis. It is better than print() for production applications.\n",
        "\n",
        "22. What is the os module in Python used for in file handling?\n",
        "  - The os module in Python provides functions for interacting with the operating system, including file and directory management. It allows you to create, delete, move, rename, and check files and directories, making it essential for file handling. The os module allows file and directory manipulation.  Useful for creating, deleting, renaming, and navigating files/folders. Works across different operating systems (Windows, macOS, Linux).\n",
        "\n",
        "23. What are the challenges associated with memory management in Python?\n",
        "  - Python’s automatic memory management makes it easy to use, but it comes with challenges that can impact performance and efficiency. Here are some key challenges:\n",
        "    1. GIL limits multithreading performance – Use multiprocessing for CPU-bound tasks.\n",
        "    2. Dynamic typing increases memory usage – Optimize with efficient data structures.\n",
        "    3. Memory fragmentation and reference cycles – Use manual garbage collection when necessary.\n",
        "    4. Large object retention – Tune garbage collection settings.\n",
        "    5. Memory leaks in long-running applications – Use weak references and avoid global variables.\n",
        "\n",
        "24. How do you raise an exception manually in Python?\n",
        "  - In Python, you can manually raise an exception using the raise keyword. This is useful for enforcing conditions, handling errors, and debugging.\n",
        "  Use raise to manually trigger built-in or custom exceptions. Provide meaningful error messages for clarity. Define custom exceptions for better error handling in large applications. Use raise inside except to re-raise exceptions when needed.\n",
        "\n",
        "25. Why is it important to use multithreading in certain applications?\n",
        "  - Multithreading allows a program to execute multiple tasks concurrently within the same process. It is particularly useful for I/O-bound tasks where threads can work in parallel while waiting for external resources.\n",
        "  Key Reasons to Use Multithreading:\n",
        "  1. Improves Responsiveness in GUI Applications.\n",
        "  2. Better Performance for I/O-Bound Tasks\n",
        "  3. Efficient Resource Utilization\n",
        "  4. Faster Execution in Certain Workloads\n",
        "  5. Useful for Real-Time Applications\n",
        "  6. Simplifies Complex Programs\n",
        "  7. Reduces Latency in Web and Network Applications\n",
        "    \n",
        "\n",
        "\n"
      ],
      "metadata": {
        "id": "_uhu7WRXFsiQ"
      }
    },
    {
      "cell_type": "code",
      "source": [
        "\n",
        "#Practical Questions :\n",
        "\n",
        "#Q1 : How can you open a file for writing in Python and write a string to it ?\n",
        "\n",
        "\n",
        "  with open(\"example.txt\", \"w\") as file:\n",
        "    file.write(\"Hello, this is the 1st line\\n\")\n",
        "\n",
        "print(\"File written successfully\")"
      ],
      "metadata": {
        "id": "UwwTU7dJJ_Om",
        "colab": {
          "base_uri": "https://localhost:8080/",
          "height": 106
        },
        "outputId": "7c89d79b-6a4f-4e72-83f4-4bcb7bf2ecb6"
      },
      "execution_count": null,
      "outputs": [
        {
          "output_type": "error",
          "ename": "IndentationError",
          "evalue": "unexpected indent (<ipython-input-3-da48a5a6dc6f>, line 4)",
          "traceback": [
            "\u001b[0;36m  File \u001b[0;32m\"<ipython-input-3-da48a5a6dc6f>\"\u001b[0;36m, line \u001b[0;32m4\u001b[0m\n\u001b[0;31m    with open(\"example.txt\", \"w\") as file:\u001b[0m\n\u001b[0m    ^\u001b[0m\n\u001b[0;31mIndentationError\u001b[0m\u001b[0;31m:\u001b[0m unexpected indent\n"
          ]
        }
      ]
    },
    {
      "cell_type": "code",
      "source": [
        "#Q2. Write a Python program to read the contents of a file and print each line?\n",
        "\n",
        "with open(\"example.txt\", \"r\") as file:\n",
        "    for line in file:\n",
        "        print(line, end=\"\")\n",
        "\n",
        "print(\"\\nFile read successfully!\")\n",
        "\n"
      ],
      "metadata": {
        "id": "JnuJkc4RM_L_"
      },
      "execution_count": null,
      "outputs": []
    },
    {
      "cell_type": "code",
      "source": [
        "#Q3. How would you handle a case where the file doesn't exist while trying to open it for reading?\n",
        "\n",
        "try:\n",
        "    with open(\"example.txt\", \"r\") as file:\n",
        "        for line in file:\n",
        "            print(line, end=\"\")\n",
        "except FileNotFoundError:\n",
        "    print(\"Error: The file 'example.txt' does not exist.\")\n",
        "\n"
      ],
      "metadata": {
        "id": "sRGopC_rNZbH"
      },
      "execution_count": null,
      "outputs": []
    },
    {
      "cell_type": "code",
      "source": [
        "#Q4. Write a Python script that reads from one file and writes its content to another file?\n",
        "\n",
        "with open(\"example.txt\", \"r\") as source_file:\n",
        "    content = source_file.read()\n",
        "\n",
        "with open(\"output.txt\", \"w\") as destination_file:\n",
        "    destination_file.write(content)\n",
        "\n",
        "\n"
      ],
      "metadata": {
        "id": "IC6xE5A_NvrG"
      },
      "execution_count": null,
      "outputs": []
    },
    {
      "cell_type": "code",
      "source": [
        "#Q5. How would you catch and handle division by zero error in Python?\n",
        "\n",
        "try:\n",
        "    numerator = float(input(\"Enter the numerator: \"))\n",
        "    denominator = float(input(\"Enter the denominator: \"))\n",
        "    result = numerator / denominator\n",
        "    print(\"Result:\", result)\n",
        "except ZeroDivisionError:\n",
        "    print(\"Error: Division by zero is not allowed.\")"
      ],
      "metadata": {
        "colab": {
          "base_uri": "https://localhost:8080/"
        },
        "id": "hKmZqMjaOd3a",
        "outputId": "b252f56c-1207-43e5-ba6e-aa495bda903a"
      },
      "execution_count": null,
      "outputs": [
        {
          "output_type": "stream",
          "name": "stdout",
          "text": [
            "Enter the numerator: 1\n",
            "Enter the denominator: 0\n",
            "Error: Division by zero is not allowed.\n"
          ]
        }
      ]
    },
    {
      "cell_type": "code",
      "source": [
        "#Q6. Write a Python program that logs an error message to a log file when a division by zero exception occurs?\n",
        "\n",
        "import logging\n",
        "\n",
        "logging.basicConfig(filename=\"error.log\", level=logging.ERROR)\n",
        "\n",
        "def divide_numbers(a, b):\n",
        "    try:\n",
        "        result = a / b\n",
        "        print(f\"Result: {result}\")\n",
        "    except ZeroDivisionError:\n",
        "        error_message = \"Error: Division by zero is not allowed.\"\n",
        "        print(error_message)\n",
        "        logging.error(error_message)\n",
        "\n",
        "divide_numbers(10, 0)\n"
      ],
      "metadata": {
        "colab": {
          "base_uri": "https://localhost:8080/"
        },
        "id": "oc9G6tXQOxAL",
        "outputId": "f5bc9dec-36e7-47c0-c320-5a844a514364"
      },
      "execution_count": null,
      "outputs": [
        {
          "output_type": "stream",
          "name": "stderr",
          "text": [
            "ERROR:root:Error: Division by zero is not allowed.\n"
          ]
        },
        {
          "output_type": "stream",
          "name": "stdout",
          "text": [
            "Error: Division by zero is not allowed.\n"
          ]
        }
      ]
    },
    {
      "cell_type": "code",
      "source": [
        "#Q7. How do you log information at different levels (INFO, ERROR, WARNING) in Python using the logging module?\n",
        "\n",
        "import logging\n",
        "logging.basicConfig(\n",
        "    filename=\"app.log\",\n",
        "    level=logging.debug,\n",
        "    format=\"%(asctime)s - %(levelname)s - %(message)s\"\n",
        ")\n",
        "\n",
        "logging.debug(\"This is a DEBUG message: Used for debugging details.\")\n",
        "logging.info(\"This is an INFO message: General program information.\")\n",
        "logging.warning(\"This is a WARNING message: Something unexpected happened.\")\n",
        "logging.error(\"This is an ERROR message: An error occurred.\")\n",
        "logging.critical(\"This is a CRITICAL message: A severe error occurred!\")\n",
        "\n",
        "print(\"Logs have been written to 'app.log'.\")\n",
        "\n",
        "\n"
      ],
      "metadata": {
        "colab": {
          "base_uri": "https://localhost:8080/"
        },
        "id": "UGHYKI5oQXhp",
        "outputId": "8868691a-8cb0-4084-d671-4bef90f49026"
      },
      "execution_count": null,
      "outputs": [
        {
          "output_type": "stream",
          "name": "stderr",
          "text": [
            "WARNING:root:This is a WARNING message: Something unexpected happened.\n",
            "ERROR:root:This is an ERROR message: An error occurred.\n",
            "CRITICAL:root:This is a CRITICAL message: A severe error occurred!\n"
          ]
        },
        {
          "output_type": "stream",
          "name": "stdout",
          "text": [
            "Logs have been written to 'app.log'.\n"
          ]
        }
      ]
    },
    {
      "cell_type": "code",
      "source": [
        "#Q8. Write a program to handle a file opening error using exception handling?\n",
        "\n",
        "def read_file(filename):\n",
        "\n",
        "    try:\n",
        "        with open(filename, \"r\") as file:\n",
        "            content = file.read()\n",
        "            print(\"File Contents:\\n\", content)\n",
        "    except FileNotFoundError:\n",
        "        print(f\"Error: The file '{filename}' was not found.\")\n",
        "    except PermissionError:\n",
        "        print(f\"Error: You don't have permission to access '{filename}'.\")\n",
        "    except Exception as e:\n",
        "        print(f\"An unexpected error occurred: {e}\")\n",
        "\n",
        "\n",
        "filename = \"example_file.txt\"\n",
        "read_file(filename)\n"
      ],
      "metadata": {
        "id": "0KuN4jbniiwV"
      },
      "execution_count": null,
      "outputs": []
    },
    {
      "cell_type": "code",
      "source": [
        "#Q9. How can you read a file line by line and store its content in a list in Python?\n",
        "\n",
        "lines = []\n",
        "with open(\"example.txt\", \"r\") as file:\n",
        "    for line in file:\n",
        "        lines.append(line.strip())\n",
        "\n",
        "print(lines)"
      ],
      "metadata": {
        "id": "2KYdr6lQnDvr"
      },
      "execution_count": null,
      "outputs": []
    },
    {
      "cell_type": "code",
      "source": [
        "#Q10.  How can you append data to an existing file in Python?\n",
        "\n",
        "with open(\"example.txt\",'a') as file:\n",
        "    file.write(\"\\nThis is the 2nd line\")\n",
        "\n",
        "print(\"File appended successfully\")\n"
      ],
      "metadata": {
        "id": "FRw7KNTUoQGu"
      },
      "execution_count": null,
      "outputs": []
    },
    {
      "cell_type": "code",
      "source": [
        "#Q11.  Write a Python program that uses a try-except block to handle an error when attempting to access a dictionary key that doesn't exist?\n",
        "\n",
        "d={'k1':'A','k2':'B','k3':'C','k4':'D'}\n",
        "\n",
        "try:\n",
        "    print(d['k5'])\n",
        "except KeyError:\n",
        "    print(\"Error: The key 'k5' does not exist in the dictionary.\")\n"
      ],
      "metadata": {
        "colab": {
          "base_uri": "https://localhost:8080/"
        },
        "id": "or85Nhjao31-",
        "outputId": "2fdf7ce3-cc65-4352-96d4-2c6762f00103"
      },
      "execution_count": null,
      "outputs": [
        {
          "output_type": "stream",
          "name": "stdout",
          "text": [
            "Error: The key 'k5' does not exist in the dictionary.\n"
          ]
        }
      ]
    },
    {
      "cell_type": "code",
      "source": [
        "#Q12. Write a program that demonstrates using multiple except blocks to handle different types of exceptions?\n",
        "\n",
        "try:\n",
        "    num = int(input(\"Enter a number: \"))\n",
        "    result = 10 / num\n",
        "    print(\"Result:\", result)\n",
        "except ValueError:\n",
        "    print(\"Error: Invalid input.Could not convert the result to an integer. Please enter a valid number.\")\n",
        "\n",
        "except ZeroDivisionError:\n",
        "    print(\"Error: Division by zero is not allowed.\")\n",
        "\n",
        "except TypeError:\n",
        "        print(\"Error: Invalid data type used in division.\")\n",
        "\n",
        "except Exception as e:\n",
        "    print(f\"An unexpected error occurred: {e}\")\n"
      ],
      "metadata": {
        "colab": {
          "base_uri": "https://localhost:8080/"
        },
        "id": "fIRXC2h0UNNW",
        "outputId": "ab27b53c-86b4-4d38-8c46-be57f7e541b2"
      },
      "execution_count": null,
      "outputs": [
        {
          "output_type": "stream",
          "name": "stdout",
          "text": [
            "Enter a number: 0\n",
            "Error: Division by zero is not allowed.\n"
          ]
        }
      ]
    },
    {
      "cell_type": "code",
      "source": [
        "#Q13. How would you check if a file exists before attempting to read it in Python?\n",
        "\n",
        "import os\n",
        "\n",
        "def read_file(filename):\n",
        "\n",
        "  if os.path.exists(filename):\n",
        "    with open(filename, \"r\") as file:\n",
        "        content = file.read()\n",
        "        print(\"File Contents:\\n\", content)\n",
        "  else:\n",
        "     print(f\"Error: The file '{filename}' does not exist.\")\n",
        "\n",
        "\n",
        "\n",
        "\n",
        "\n",
        "filename = \"example.txt\"\n",
        "read_file(filename)\n",
        "\n"
      ],
      "metadata": {
        "id": "ZnzVbolDTWZ0"
      },
      "execution_count": null,
      "outputs": []
    },
    {
      "cell_type": "code",
      "source": [
        "#Q14.  Write a program that uses the logging module to log both informational and error messages?\n",
        "\n",
        "import logging\n",
        "\n",
        "logging.basicConfig(\n",
        "    filename=\"app.log\",\n",
        "    level=logging.DEBUG,\n",
        "    format=\"%(asctime)s - %(levelname)s - %(message)s\"\n",
        ")\n",
        "\n",
        "def divide_numbers(a, b):\n",
        "    try:\n",
        "        logging.info(f\"Attempting to divide {a} by {b}\")\n",
        "        result = a / b\n",
        "        logging.info(f\"Division successful: {a} / {b} = {result}\")\n",
        "        return result\n",
        "    except ZeroDivisionError:\n",
        "        logging.error(\"Error: Division by zero is not allowed.\")\n",
        "    except Exception as e:\n",
        "        logging.error(f\"An unexpected error occurred: {e}\")\n",
        "\n",
        "# Test Cases\n",
        "divide_numbers(10, 2)   # Normal case (Info log)\n",
        "divide_numbers(10, 0)   # Error case (Error log)\n",
        "divide_numbers(\"10\", 2) # TypeError (Error log)\n",
        "\n",
        "print(\"Check 'app.log' for logged messages.\")\n",
        "\n"
      ],
      "metadata": {
        "id": "RL7NmVltWy4G"
      },
      "execution_count": null,
      "outputs": []
    },
    {
      "cell_type": "code",
      "source": [
        "#Q15.  Write a Python program that prints the content of a file and handles the case when the file is empty?\n",
        "\n",
        "\n",
        "def read_file(filename):\n",
        "    try:\n",
        "        with open(filename, \"r\") as file:\n",
        "            content = file.read()\n",
        "            if content:\n",
        "                print(\"File Contents:\\n\", content)\n",
        "            else:\n",
        "                print(\"The file is empty.\")\n",
        "    except FileNotFoundError:\n",
        "        print(f\"Error: The file '{filename}' was not found.\")\n",
        "\n",
        "    except PermissionError:\n",
        "        print(f\"Error: You don't have permission to access '{filename}'.\")\n",
        "\n",
        "    except Exception as e:\n",
        "        print(f\"An unexpected error occurred: {e}\")\n",
        "\n",
        "filename='example.txt'\n",
        "read_file(filename)\n",
        "\n",
        "\n",
        "\n"
      ],
      "metadata": {
        "id": "MxVeOIvafqrJ"
      },
      "execution_count": null,
      "outputs": []
    },
    {
      "cell_type": "code",
      "source": [
        "#Q16.  Demonstrate how to use memory profiling to check the memory usage of a small program?\n",
        "\n",
        "from memory_profiler import profile\n",
        "\n",
        "@profile\n",
        "def memory_intensive_function():\n",
        "    numbers = [i for i in range(1000000)]\n",
        "    print(f\"List created with {len(numbers)} elements.\")\n",
        "\n",
        "    del numbers\n",
        "\n",
        "if __name__ == \"__main__\":\n",
        "    memory_intensive_function()\n"
      ],
      "metadata": {
        "id": "iFzhg26th1j4"
      },
      "execution_count": null,
      "outputs": []
    },
    {
      "cell_type": "code",
      "source": [
        "#Q17. Write a Python program to create and write a list of numbers to a file, one number per line?\n",
        "\n",
        "def write_numbers_to_file(fname, numbers):\n",
        "    try:\n",
        "        with open(fname, 'w') as file:\n",
        "            for i in numbers:\n",
        "                file.write(f'{i} \\n')\n",
        "        print(f\"Numbers written to '{fname}' successfully.\")\n",
        "    except Exception as e:\n",
        "        print(f\"An error occurred: {e}\")\n",
        "\n",
        "numbers = [1, 2, 3, 4, 5]\n",
        "fname = 'numbers.txt'\n",
        "write_numbers_to_file(fname, numbers)\n"
      ],
      "metadata": {
        "id": "Qudvp6Cth6M5"
      },
      "execution_count": null,
      "outputs": []
    },
    {
      "cell_type": "code",
      "source": [
        "#Q18.  How would you implement a basic logging setup that logs to a file with rotation after 1MB?\n",
        "\n",
        "import logging\n",
        "from logging.handlers import RotatingFileHandler\n",
        "\n",
        "log_filename = \"app.log\"\n",
        "\n",
        "handler = RotatingFileHandler(log_filename, maxBytes=1_000_000, backupCount=3)\n",
        "\n",
        "logging.basicConfig(\n",
        "    level=logging.DEBUG,\n",
        "    format=\"%(asctime)s - %(levelname)s - %(message)s\",\n",
        "    handlers=[handler]\n",
        ")\n",
        "\n",
        "# Test logging messages\n",
        "for i in range(10000):\n",
        "    logging.info(f\"Log entry {i}: This is a test log message.\")"
      ],
      "metadata": {
        "id": "JtAOVzXijcvd"
      },
      "execution_count": null,
      "outputs": []
    },
    {
      "cell_type": "code",
      "source": [
        "#Q19. Write a program that handles both IndexError and KeyError using a try-except block?\n",
        "\n",
        "def handle_exceptions():\n",
        "    my_list = [10, 20, 30]\n",
        "    my_dict = {\"a\": 1, \"b\": 2, \"c\": 3}\n",
        "\n",
        "    try:\n",
        "        print(f\"List element: {my_list[5]}\")\n",
        "\n",
        "    except IndexError:\n",
        "        print(\"Error: List index out of range!\")\n",
        "\n",
        "    try:\n",
        "      print(f\"Dictionary value: {my_dict['z']}\")\n",
        "\n",
        "    except KeyError:\n",
        "        print(\"Error: Dictionary key not found!\")\n",
        "\n",
        "handle_exceptions()\n"
      ],
      "metadata": {
        "colab": {
          "base_uri": "https://localhost:8080/"
        },
        "id": "e9arJS7RmBXh",
        "outputId": "b50fec89-fbac-49b7-a119-bd33167e50c9"
      },
      "execution_count": null,
      "outputs": [
        {
          "output_type": "stream",
          "name": "stdout",
          "text": [
            "Error: List index out of range!\n",
            "Error: Dictionary key not found!\n"
          ]
        }
      ]
    },
    {
      "cell_type": "code",
      "source": [
        "#Q20. would you open a file and read its contents using a context manager in Python?\n",
        "\n",
        "filename = \"example.txt\"\n",
        "\n",
        "try:\n",
        "    with open(filename, \"r\") as file:\n",
        "        content = file.read()\n",
        "        content1=file.readline()\n",
        "        content2=file.readlines()\n",
        "        print(\"File Contents:\\n\", content)\n",
        "        print(\"File Contents:\\n\",content1)\n",
        "        print(\"File Contents:\\n\",content2)\n",
        "except FileNotFoundError:\n",
        "    print(f\"Error: The file '{filename}' does not exist.\")\n",
        "except Exception as e:\n",
        "    print(f\"An error occurred: {e}\")\n",
        "\n"
      ],
      "metadata": {
        "id": "l_EY8r3knAx0"
      },
      "execution_count": null,
      "outputs": []
    },
    {
      "cell_type": "code",
      "source": [
        "#Q21. Write a Python program that reads a file and prints the number of occurrences of a specific word?\n",
        "\n",
        "def count_word_occurrences(filename, target_word):\n",
        "    try:\n",
        "        with open(filename, \"r\", encoding=\"utf-8\") as file:\n",
        "            content = file.read().lower()\n",
        "        word_count = content.split().count(target_word.lower())\n",
        "        print(f\"The word '{target_word}' appears {word_count} times in '{filename}'.\")\n",
        "\n",
        "    except FileNotFoundError:\n",
        "        print(f\"Error: The file '{filename}' does not exist.\")\n",
        "    except Exception as e:\n",
        "        print(f\"An error occurred: {e}\")\n",
        "\n",
        "filename = \"example.txt\"\n",
        "target_word = \"Python\"\n",
        "count_word_occurrences(filename, target_word)\n",
        "\n"
      ],
      "metadata": {
        "id": "rK1qfGQ_oFQZ"
      },
      "execution_count": null,
      "outputs": []
    },
    {
      "cell_type": "code",
      "source": [
        "#Q22. How can you check if a file is empty before attempting to read its contents?\n",
        "\n",
        "filename = \"example.txt\"\n",
        "\n",
        "with open(filename, \"r\") as file:\n",
        "    content = file.read().strip()\n",
        "    if not content:\n",
        "        print(f\"Error: The file '{filename}' is empty.\")\n",
        "    else:\n",
        "        print(\"File Contents:\\n\", content)"
      ],
      "metadata": {
        "id": "-8L6R43Kovlx"
      },
      "execution_count": null,
      "outputs": []
    },
    {
      "cell_type": "code",
      "source": [
        "#Q23. Write a Python program that writes to a log file when an error occurs during file handling?\n",
        "\n",
        "import logging\n",
        "\n",
        "logging.basicConfig(\n",
        "    filename=\"file_errors.log\",\n",
        "    level=logging.ERROR,\n",
        "    format=\"%(asctime)s - %(levelname)s - %(message)s\"\n",
        ")\n",
        "\n",
        "def read_file(filename):\n",
        "    try:\n",
        "        with open(filename, \"r\") as file:\n",
        "            content = file.read()\n",
        "            print(\"File Contents:\\n\", content)\n",
        "    except FileNotFoundError:\n",
        "        logging.error(f\"File '{filename}' not found.\")\n",
        "        print(f\"Error: The file '{filename}' does not exist.\")\n",
        "    except PermissionError:\n",
        "        logging.error(f\"Permission denied for '{filename}'.\")\n",
        "        print(f\"Error: Permission denied for '{filename}'.\")\n",
        "    except Exception as e:\n",
        "        logging.error(f\"Unexpected error while reading '{filename}': {e}\")\n",
        "        print(f\"An unexpected error occurred: {e}\")\n",
        "\n",
        "filename = \"missing_file.txt\"\n",
        "read_file(filename)\n"
      ],
      "metadata": {
        "id": "p-heM_nEpRRu"
      },
      "execution_count": null,
      "outputs": []
    }
  ]
}