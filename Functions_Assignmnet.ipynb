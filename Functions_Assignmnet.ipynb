{
  "nbformat": 4,
  "nbformat_minor": 0,
  "metadata": {
    "colab": {
      "provenance": []
    },
    "kernelspec": {
      "name": "python3",
      "display_name": "Python 3"
    },
    "language_info": {
      "name": "python"
    }
  },
  "cells": [
    {
      "cell_type": "markdown",
      "source": [
        "**Functions : **\n",
        "\n",
        "1. What is the difference between a function and a method in Python?\n",
        "  - (1) A function is a block of reusable code that takes input (arguments), processes them, and returns a result.\n",
        "   Functions are defined using the def keyword and can be called independently of any object.\n",
        "   (2) A method is a function that is associated with an object, meaning it is tied to an instance of a class or the class itself. Methods are used to perform actions using the data (attributes) that belong to that object or class.\n",
        "\n",
        "2.  Explain the concept of function arguments and parameters in Python?\n",
        "  - Function arguments and Parameters are essential concepts for passing data to functions so they can perform specific tasks.\n",
        "  (1) Parameters are the variables listed in the function definition. They act as placeholders that specify what kind of information the function expects to receive when it is called. A function can have multiple parameters, and they are defined inside the parentheses in the function signature. Parameters are variables in the function definition.\n",
        "  (2) Arguments are the actual values you pass to the function when calling it. These values are assigned to the corresponding parameters in the function.\n",
        "  Arguments can be provided in several ways: positional arguments, keyword arguments, default arguments, and variable-length arguments. Arguments are the actual values passed to the function when it is called.\n",
        "\n",
        "3. What are the different ways to define and call a function in Python?\n",
        "  - In Python, there are multiple ways to define and call functions, depending on the context and the specific needs of the program.\n",
        "  Basic function using def.\n",
        "  1-Function with parameters and arguments.\n",
        "  2-Function with default parameters.\n",
        "  3-Function with variable-length arguments (*args,**kwargs).\n",
        "  4-Lambda functions for anonymous, small functions.\n",
        "  5-Assigning functions to variables.\n",
        "  6-Nested functions (functions inside other functions).\n",
        "  7-Returning functions from functions (closures).\n",
        "  8-Recursive functions that call themselves.\n",
        "\n",
        "4. What is the purpose of the `return` statement in a Python function?\n",
        "  - The Return statement in a Python function is used to send a value back to the caller. Once a return statement is encountered, the function terminates.If no return is specified, the function returns None.If a function has multiple return statements, it will return as soon as the first one is encountered.\n",
        "\n",
        "5. What are iterators in Python and how do they differ from iterables?\n",
        "  - An iterator is an object that represents a stream of data. It implements two special methods. __iter__() → Returns the iterator object itself and __next__() → Returns the next item in the sequence. If there are no more items, it raises a StopIteration exception. where as an iterable is any Python object that can be looped over (iterated). It has a special method __iter__() that returns an iterator.\n",
        "\n",
        "6.  Explain the concept of generators in Python and how they are defined?\n",
        "  - Generators produce values one at a time and only when requested, making them memory-efficient. Unlike regular functions that reset every time they are called, generators remember their last execution state and resume from there when called again. Generators implement both __iter__() and __next__(), so they can be directly used in loops. Generators are defined using a function with yield instead of return.\n",
        "\n",
        "7. What are the advantages of using generators over regular functions?\n",
        "  - Generators provide several benefits, particularly when dealing with large datasets, streaming data, or memory-intensive tasks. Generators produce values one at a time, keeping memory usage low. Since generators compute values on demand, they start producing results immediately, unlike functions that return large lists. Generators can yield indefinitely, making them ideal for infinite sequences. Generators remember where they left off and resume execution from that point. Generaters are Memory efficient, faster Execution, Can Represent Infinite Sequences, Cleaner and More Readable Code.\n",
        "\n",
        "8. What is a lambda function in Python and when is it typically used?\n",
        "  - A lambda function also called an anonymous function it is a small, single-expression function that does not require a formal def statement. It is created using the lambda keyword. No return statement needed— the expression is automatically returned. Can take any number of arguments, but only one expression. syntax:lambda arguments: expression, Lambda functions are typically used for short, simple operations where defining a full function would be unnecessary. Lambda can be used with map(), filter(), sorted().\n",
        "9. Explain the purpose and usage of the `map()` function in Python?\n",
        "  - The map() function in Python applies a given function to each item of an iterable (like a list, tuple, or set) and returns an iterator i.e a map object with the transformed values. Syntax: map(function, iterable).\n",
        "\n",
        "10.  What is the difference between `map()`, `reduce()`, and `filter()` functions in Python?\n",
        "  -  1. map() : It apply a Function to Each Element,  Transforms each element of an iterable using a function. Returns a map object (iterator), which can be converted to a list. Does NOT change the number of elements in the original iterable. Use map() when you want to apply a function to every element in an iterable.\n",
        "      2. filter() – It select Elements Based on a Condition, Filters elements of an iterable based on a condition (boolean function). Returns only the elements that evaluate to True. The output may have fewer elements than the input. Use filter() when you need to remove elements that don’t meet a condition.\n",
        "      3. reduce() – Applies a function cumulatively to the elements of an iterable, reducing it to a single value. Unlike map() and filter(), reduce() is not built-in and must be imported from functools. Use reduce() when you need to combine all elements into a single value (e.g., sum, product, max).\n",
        "\n",
        "11. . Using pen & Paper write the internal mechanism for sum operation using reduce function on this given\n",
        "list:[47,11,42,13] .\n",
        "\n",
        "  -   Answer is attached , Please check\n",
        "\n",
        "\n",
        "\n",
        "\n",
        "\n"
      ],
      "metadata": {
        "id": "7Cf-0Q_9Qcqe"
      }
    },
    {
      "cell_type": "code",
      "source": [
        "#Practical Questions:\n",
        "\n",
        "# 1.  Write a Python function that takes a list of numbers as input and returns the sum of all even numbers in the list.\n",
        "\n",
        "def sum_even_numbers(numbers):\n",
        "    even_sum = 0\n",
        "    for n in numbers:\n",
        "        if n % 2 == 0:\n",
        "            even_sum += n\n",
        "    return even_sum\n",
        "# sample list:\n",
        "'''\n",
        "sum_even_numbers([1,2,3,4,5,6]) '''\n",
        "\n",
        "\n"
      ],
      "metadata": {
        "id": "IYmVTvvgQtWe",
        "colab": {
          "base_uri": "https://localhost:8080/"
        },
        "outputId": "f3ae395a-4080-43c2-e94f-348ffb32b172"
      },
      "execution_count": null,
      "outputs": [
        {
          "output_type": "execute_result",
          "data": {
            "text/plain": [
              "12"
            ]
          },
          "metadata": {},
          "execution_count": 4
        }
      ]
    },
    {
      "cell_type": "code",
      "source": [
        "# 2. Create a Python function that accepts a string and returns the reverse of that string.\n",
        "\n",
        "def reverse_string(s):\n",
        "    return s[::-1]\n",
        "\n",
        "# Sample usage:\n",
        "'''\n",
        "text = \"Hello\"\n",
        "print(reverse_string(text))\n",
        "'''\n"
      ],
      "metadata": {
        "colab": {
          "base_uri": "https://localhost:8080/"
        },
        "id": "kJ8bhKrjEwYS",
        "outputId": "588cef26-728a-46d9-f4a2-ecb999a99d34"
      },
      "execution_count": null,
      "outputs": [
        {
          "output_type": "stream",
          "name": "stdout",
          "text": [
            "olleH\n"
          ]
        }
      ]
    },
    {
      "cell_type": "code",
      "source": [
        "# 3.  Implement a Python function that takes a list of integers and returns a new list containing the squares of each number.\n",
        "\n",
        "def squares_n(n):\n",
        "  a=0\n",
        "  l=[]\n",
        "  for i in n:\n",
        "    a=i**2\n",
        "    l.append(a)\n",
        "\n",
        "  return l\n",
        "# Sample usage:\n",
        "'''\n",
        "squares_n([1,2,3,4,5])\n",
        "\n",
        "'''"
      ],
      "metadata": {
        "colab": {
          "base_uri": "https://localhost:8080/"
        },
        "id": "dl_GQ4MVF6Ik",
        "outputId": "24b3b63e-5d4c-4b9e-ab43-3bc2af784bf7"
      },
      "execution_count": null,
      "outputs": [
        {
          "output_type": "execute_result",
          "data": {
            "text/plain": [
              "[1, 4, 9, 16, 25]"
            ]
          },
          "metadata": {},
          "execution_count": 6
        }
      ]
    },
    {
      "cell_type": "code",
      "source": [
        "# 4. Write a Python function that checks if a given number is prime or not from 1 to 200.\n",
        "\n",
        "def is_prime(n):\n",
        "    if n < 2:\n",
        "        return False\n",
        "    for i in range(2, int(n ** 0.5) + 1):\n",
        "        if n % i == 0:\n",
        "            return False\n",
        "    return True\n",
        "\n",
        "for num in range(1, 201):\n",
        "    if is_prime(num):\n",
        "        print(num, \"is a prime number\")"
      ],
      "metadata": {
        "colab": {
          "base_uri": "https://localhost:8080/"
        },
        "id": "i8GTSCdIHLGg",
        "outputId": "b993f868-c143-4b21-cd83-16f4ed1fa7d9"
      },
      "execution_count": null,
      "outputs": [
        {
          "output_type": "stream",
          "name": "stdout",
          "text": [
            "2 is a prime number\n",
            "3 is a prime number\n",
            "5 is a prime number\n",
            "7 is a prime number\n",
            "11 is a prime number\n",
            "13 is a prime number\n",
            "17 is a prime number\n",
            "19 is a prime number\n",
            "23 is a prime number\n",
            "29 is a prime number\n",
            "31 is a prime number\n",
            "37 is a prime number\n",
            "41 is a prime number\n",
            "43 is a prime number\n",
            "47 is a prime number\n",
            "53 is a prime number\n",
            "59 is a prime number\n",
            "61 is a prime number\n",
            "67 is a prime number\n",
            "71 is a prime number\n",
            "73 is a prime number\n",
            "79 is a prime number\n",
            "83 is a prime number\n",
            "89 is a prime number\n",
            "97 is a prime number\n",
            "101 is a prime number\n",
            "103 is a prime number\n",
            "107 is a prime number\n",
            "109 is a prime number\n",
            "113 is a prime number\n",
            "127 is a prime number\n",
            "131 is a prime number\n",
            "137 is a prime number\n",
            "139 is a prime number\n",
            "149 is a prime number\n",
            "151 is a prime number\n",
            "157 is a prime number\n",
            "163 is a prime number\n",
            "167 is a prime number\n",
            "173 is a prime number\n",
            "179 is a prime number\n",
            "181 is a prime number\n",
            "191 is a prime number\n",
            "193 is a prime number\n",
            "197 is a prime number\n",
            "199 is a prime number\n"
          ]
        }
      ]
    },
    {
      "cell_type": "code",
      "source": [
        "# 5. Create an iterator class in Python that generates the Fibonacci sequence up to a specified number of terms.\n",
        "\n",
        "class Fibonacci:\n",
        "    def __init__(self, n_terms):\n",
        "        self.n_terms = n_terms\n",
        "        self.a, self.b = 0, 1\n",
        "        self.count = 0\n",
        "\n",
        "    def __iter__(self):\n",
        "        return self\n",
        "\n",
        "    def __next__(self):\n",
        "        if self.count >= self.n_terms:\n",
        "            raise StopIteration\n",
        "        if self.count == 0:\n",
        "            self.count += 1\n",
        "            return self.a\n",
        "        elif self.count == 1:\n",
        "            self.count += 1\n",
        "            return self.b\n",
        "        else:\n",
        "            self.a, self.b = self.b, self.a + self.b\n",
        "            self.count += 1\n",
        "            return self.b\n",
        "\n",
        "fib = Fibonacci(10)  # It will Generate first 10 Fibonacci numbers\n",
        "for n in fib:\n",
        "    print(n, end=\" \")\n"
      ],
      "metadata": {
        "colab": {
          "base_uri": "https://localhost:8080/"
        },
        "id": "iDRASTYBJZUI",
        "outputId": "5fea512e-42d1-4d17-eaa2-95835d9eb4bf"
      },
      "execution_count": null,
      "outputs": [
        {
          "output_type": "stream",
          "name": "stdout",
          "text": [
            "0 1 1 2 3 5 8 13 21 34 "
          ]
        }
      ]
    },
    {
      "cell_type": "code",
      "source": [
        "# 6. Write a generator function in Python that yields the powers of 2 up to a given exponent.\n",
        "\n",
        "def powers_of_two(n):\n",
        "    for exp in range(n + 1):\n",
        "        yield 2 ** exp\n",
        "\n",
        "# Sample usage:\n",
        "for power in powers_of_two(5):\n",
        "    print(power, end=\" \")"
      ],
      "metadata": {
        "colab": {
          "base_uri": "https://localhost:8080/"
        },
        "id": "L9shPTbQLvdJ",
        "outputId": "c0b8e741-db56-4729-c5aa-dd233247ab3d"
      },
      "execution_count": null,
      "outputs": [
        {
          "output_type": "stream",
          "name": "stdout",
          "text": [
            "1 2 4 8 16 32 "
          ]
        }
      ]
    },
    {
      "cell_type": "code",
      "source": [
        "# 7.  Implement a generator function that reads a file line by line and yields each line as a string.\n",
        "\n",
        "def read_file(file_path):\n",
        "    with open(file_path, \"r\") as file:\n",
        "        for line in file:\n",
        "            yield line.strip()\n",
        "\n",
        "# Sample usage:\n",
        "file_path = \"example.txt\"  # Replace with your file path\n",
        "for line in read_file(file_path):\n",
        "    print(line)"
      ],
      "metadata": {
        "id": "1Zl_yuTlOEnw"
      },
      "execution_count": null,
      "outputs": []
    },
    {
      "cell_type": "code",
      "source": [
        "# 8. Use a lambda function in Python to sort a list of tuples based on the second element of each tuple.\n",
        "\n",
        "T = [(1, 5), (3, 2), (2, 8), (4, 1)]\n",
        "sorted_data = sorted(T, key=lambda x: x[1])\n",
        "print(sorted_data)"
      ],
      "metadata": {
        "colab": {
          "base_uri": "https://localhost:8080/"
        },
        "id": "7DhQmLWqOq7_",
        "outputId": "f390540c-e80c-48c4-f0ea-4069be919782"
      },
      "execution_count": null,
      "outputs": [
        {
          "output_type": "stream",
          "name": "stdout",
          "text": [
            "[(4, 1), (3, 2), (1, 5), (2, 8)]\n"
          ]
        }
      ]
    },
    {
      "cell_type": "code",
      "source": [
        "# 9. Write a Python program that uses `map()` to convert a list of temperatures from Celsius to Fahrenheit.\n",
        "\n",
        "celsius_to_fahrenheit = lambda c: (c * 9/5) + 32\n",
        "\n",
        "celsius_temperatures = [0, 10, 35, 100]\n",
        "\n",
        "fahrenheit_temperatures = list(map(celsius_to_fahrenheit, celsius_temperatures))\n",
        "\n",
        "print(fahrenheit_temperatures)"
      ],
      "metadata": {
        "colab": {
          "base_uri": "https://localhost:8080/"
        },
        "id": "YYEnyedzPRI9",
        "outputId": "33c9484f-e31e-4a7c-baf2-d0799acd3a98"
      },
      "execution_count": null,
      "outputs": [
        {
          "output_type": "stream",
          "name": "stdout",
          "text": [
            "[32.0, 50.0, 95.0, 212.0]\n"
          ]
        }
      ]
    },
    {
      "cell_type": "code",
      "source": [
        "# 10. Create a Python program that uses `filter()` to remove all the vowels from a given string.\n",
        "\n",
        "is_not_vowel = lambda c: c.lower() not in 'aeiou'\n",
        "\n",
        "input_string = \"Hello, World!\"\n",
        "\n",
        "filtered_string = ''.join(filter(is_not_vowel, input_string))\n",
        "\n",
        "print(filtered_string)"
      ],
      "metadata": {
        "colab": {
          "base_uri": "https://localhost:8080/"
        },
        "id": "n4MBvJBtPtZE",
        "outputId": "79ceda54-da51-43c7-e497-6df3ae60acef"
      },
      "execution_count": null,
      "outputs": [
        {
          "output_type": "stream",
          "name": "stdout",
          "text": [
            "Hll, Wrld!\n"
          ]
        }
      ]
    },
    {
      "cell_type": "code",
      "source": [
        "# 11.  Imagine an accounting routine used in a book shop. It works on a list with sublists, which look like this:\n",
        "'''Write a Python program, which returns a list with 2-tuples. Each tuple consists of the order number and the\n",
        "product of the price per item and the quantity. The product should be increased by 10,- € if the value of the\n",
        "order is smaller than 100,00 €.\n",
        "\n",
        "Write a Python program using lambda and map.'''\n",
        "\n",
        "\n",
        "\n",
        "orders = [\n",
        "    (34587, \"Learning Python, Mark Lutz\", 4, 40.95),\n",
        "    (98762, \"Programming Python, Mark Lutz\", 5, 56.80),\n",
        "    (77226, \"Head First Python, Paul Barry\", 3, 32.95),\n",
        "    (88112, \"Einführung in Python3, Bernd Klein\", 3, 24.99)\n",
        "]\n",
        "\n",
        "processed_orders = list(map(lambda x: (x[0], x[2] * x[3] if x[2] * x[3] >= 100 else x[2] * x[3] + 10), orders))\n",
        "\n",
        "print(processed_orders)\n"
      ],
      "metadata": {
        "id": "uYOWrqYrOQNb",
        "colab": {
          "base_uri": "https://localhost:8080/"
        },
        "outputId": "131084d8-d3d9-44bf-f830-3a770cea4772"
      },
      "execution_count": 1,
      "outputs": [
        {
          "output_type": "stream",
          "name": "stdout",
          "text": [
            "[(34587, 163.8), (98762, 284.0), (77226, 108.85000000000001), (88112, 84.97)]\n"
          ]
        }
      ]
    }
  ]
}