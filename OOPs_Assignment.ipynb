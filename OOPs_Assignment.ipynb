{
  "nbformat": 4,
  "nbformat_minor": 0,
  "metadata": {
    "colab": {
      "provenance": []
    },
    "kernelspec": {
      "name": "python3",
      "display_name": "Python 3"
    },
    "language_info": {
      "name": "python"
    }
  },
  "cells": [
    {
      "cell_type": "markdown",
      "source": [
        "******OOPs Questions and Answers *******\n",
        "\n",
        "1. What is Object-Oriented Programming (OOP)?\n",
        "    - Object-Oriented Programming (OOP) is a programming paradigm based on the concept of objects, which are instances of classes. OOP organizes code into reusable and modular structures, making it easier to manage, scale, and maintain. Benifits of OOPs, Modularity, Reusability, Scalability, Security.Key Concepts of OOPS are (1)Calss and Object, (2) Encapsulation, (3) Inheritance, (4) Polymorphism, (5) Abstraction.\n",
        "\n",
        "2. What is a class in OOP?\n",
        "    - A Class is a template for creating objects that share similar properties and behaviors. It defines the attributes and methods that the objects created from the class will have.\n",
        "\n",
        "3. What is an object in OOP?\n",
        "    - An object in OOPs is an instance of a class. Each object created from a class has its own unique values but shares the same structure defined by the class. It represents a real-world entity with attributes and methods.\n",
        "\n",
        "4. What is the difference between abstraction and encapsulation?\n",
        "    - 1. Abstraction : Hiding implementation details and showing only the necessary features. Focuses on reducing complexity by hiding internal workings. Achieved using abstract classes and interfaces.\n",
        "      2. Encapsulation : Wrapping data and methods into a single unit to restrict direct access. Focuses on protecting data and restricting direct modification. Achieved using access modifiers (private, protected, public).\n",
        "\n",
        "5. What are dunder methods in Python ?\n",
        "    - Dunder methods are special methods in Python that have double underscores (__) before and after their names. Dunder methods customize object behavior with built-in functions and operators. Common use cases include initialization (__init__), string representation (__str__, __repr__), operator overloading (__add__, __eq__), and iteration (__iter__).\n",
        "\n",
        "6. Explain the concept of inheritance in OOP?\n",
        "    - Inheritance is a fundamental OOP concept that allows a new class (child/subclass) to inherit attributes and methods from an existing class (parent/superclass). This promotes code reuse, hierarchical relationships, and extensibility. Types of Inheritance are (1) Single Inheritance,(2) Multiple Inheritance, (3) Multilevel Inheritance, (4) Hierarchical Inheritance ,(5) Hybrid Inheritance. Inheritance allows code reuse by letting child classes inherit from a parent. Method Overriding enables subclasses to redefine inherited methods.super() helps call parent class methods inside a subclass.\n",
        "\n",
        "7. What is polymorphism in OOP?\n",
        "    - Polymorphism means \"many forms.\" In OOP, it allows objects of different classes to be treated as if they were of the same class by sharing common methods. This makes code more flexible and reusable.  Polymorphism allows different classes to share the same interface (method names). Types of Polymorphism: Method Overriding, Method Overloading, Operator Overloading, Duck Typing.\n",
        "\n",
        "8.  How is encapsulation achieved in Python?\n",
        "    - Encapsulation is the process of attributes and methods (functions) into a single unit (class) and restricting direct access to some of the object's data. This protects the integrity of the object's state and enforces controlled access. Python provides three levels of access control (public, _protected, __private). Private attributes can be accessed using public methods (getters and setters).\n",
        "\n",
        "9. What is a constructor in Python?\n",
        "    - A constructor in Python is a special method __init__() that is automatically called when an object of a class is created. It is used to initialize the attributes (variables) of a class. Types: Default, Parameterized, and Constructors with Default Values. Python does not support constructor overloading, but default values can be used instead.\n",
        "\n",
        "10.  What are class and static methods in Python?\n",
        "    - 1. Class Method (@classmethod) - Works with the class itself, not an instance. Takes cls as the first parameter. Used for modifying class-level attributes and creating instances. Use @classmethod when you need to modify class attributes or create new instances.\n",
        "      2. Static Method (@staticmethod) - Does not access instance (self) or class (cls) variables. Used for utility functions related to the class but independent of specific objects.  Use @staticmethod when you just need a function inside a class that doesn't rely on instance or class attributes.\n",
        "\n",
        "11.  What is method overloading in Python?\n",
        "    -  Method overloading refers to the ability to define multiple methods in a class with the same name but different parameters. Python does not support traditional method overloading (same method name with different argument signatures). Instead, it uses default arguments and variable-length arguments (*args, **kwargs) to achieve similar behavior.\n",
        "\n",
        "12. What is method overriding in OOP?\n",
        "    - Method overriding is a feature in Object-Oriented Programming (OOP) that allows a subclass to provide a specific implementation of a method that is already defined in its parent class. The method name and parameters must be the same in both the parent and child class. The child class method overrides (replaces) the parent class method.\n",
        "\n",
        "13. What is a property decorator in Python?\n",
        "    - The property decorator (@property) in Python is used to define getter, setter, and deleter methods in a class. It allows us to control access to attributes while still using them as if they were regular attributes. Provides getter and setter methods without changing how attributes are accessed.\n",
        "\n",
        "14. Why is polymorphism important in OOP?\n",
        "    - olymorphism is one of the four pillars of OOPs (along with Encapsulation, Inheritance, and Abstraction). It allows one interface, multiple implementations, making code more flexible, scalable, and reusable. Types of Polymorphism in OOP - Compile-time Polymorphism (Method Overloading) and Runtime Polymorphism (Method Overriding).\n",
        "\n",
        "15.  What is an abstract class in Python?\n",
        "    - An abstract class in Python is a class that cannot be instantiated and serves as a blueprint for other classes. It contains abstract methods that must be implemented by its subclasses.\n",
        "\n",
        "\n",
        "16.  What are the advantages of OOP?\n",
        "    - Object-Oriented Programming (OOPs) provides several benefits that make software development efficient, scalable, and maintainable. key dvantages of OOP: Modularity -\tOrganizes code into reusable classes and objects, Encapsulation -\tProtects sensitive data with private attributes, Inheritance - Reduces redundancy and improves code efficiency, Polymorphism -Increases flexibility by allowing different implementations, Abstraction- Hides complex implementation details from users, Scalability - Easily extendable to add new features without modifying existing code.\n",
        "\n",
        "\n",
        " 17. What is the difference between a class variable and an instance variable?\n",
        "    - In Python, class variables and instance variables are two types of attributes used to store data in a class, but they behave differently.\n",
        "    1. Class Variable : Shared among all instances of the class. Defined outside of any instance methods, directly inside the class. Accessed using the class name (ClassName.variable) or an instance (obj.variable). Changing the value affects all instances unless overridden.\n",
        "    2. Instance Variable : Unique to each object (each instance has its own copy). Defined inside the constructor (__init__) using self. Changing the value affects only that instance.\n",
        "\n",
        "\n",
        "18.  What is multiple inheritance in Python?\n",
        "    - Multiple inheritance is a feature in Python that allows a class to inherit from more than one parent class. This means a child class can inherit attributes and methods from multiple parent classes. Advantages of Multiple Inheritance : Code reusability, combining features, modular design.\n",
        "\n",
        "\n",
        "19. Explain the purpose of ‘’__str__’ and ‘__repr__’ ‘ methods in Python?\n",
        "    - Both __str__ and __repr__ are special methods (dunder methods) in Python that define how an object is represented as a string.\n",
        "    1. __str__: User-Friendly String Representation. Used when you call str(object) or print(object). Returns a human-readable string (meant for end-users). Should be easy to read and informal.\n",
        "    2. __repr__: Developer-Friendly String Representation. Used when you call repr(object), or in debugging ( object in interactive mode). Returns a formal, unambiguous string (useful for developers). Should return a valid Python expression that can recreate the object.\n",
        "\n",
        "\n",
        "20.  What is the significance of the ‘super()’ function in Python?\n",
        "    - The super() function in Python is used to call methods from a parent class. It is especially useful in inheritance when a child class overrides methods from a parent class but still needs to access the parent’s functionality. It avoids duplicate code by reusing the parent class’s methods. Supports multiple inheritance by ensuring the correct method resolution order (MRO).  Makes code more maintainable and flexible.\n",
        "\n",
        "\n",
        "21.  What is the significance of the __del__ method in Python?\n",
        "    - The __del__ method in Python is called when an object is about to be destroyed (i.e., when it goes out of scope or is explicitly deleted using del). It is known as the destructor method.\n",
        "\n",
        "\n",
        "22. What is the difference between @staticmethod and @classmethod in Python?\n",
        "    - Both @staticmethod and @classmethod are decorators in Python used to define methods inside a class that do not work with instance-specific data.\n",
        "    1. @staticmethod :  A method that belongs to the class but does NOT access or modify the class or instance attributes. No self or cls parameter. Acts just like a regular function inside a class but provides logical grouping.\n",
        "    2. @classmethod : A method that works with the class itself and modifies class-level attributes. es cls as the first parameter (not self). Useful when we need to operate on class variables.\n",
        "\n",
        "\n",
        "23. How does polymorphism work in Python with inheritance?\n",
        "    - Polymorphism is one of the core concepts of Object-Oriented Programming (OOP) that allows the same method name to behave differently depending on the object that calls it. In inheritance, polymorphism enables a child class to override methods from a parent class, allowing different subclasses to have their own unique implementations of the same method. Allows objects with similar methods to be used interchangeably.\n",
        "\n",
        "\n",
        "24. What is method chaining in Python OOP?\n",
        "    - Method chaining is a technique in Object-Oriented Programming (OOP) where multiple methods are called on the same object sequentially in a single line. This is achieved by having each method return self (the current instance of the object), allowing further method calls.\n",
        "\n",
        "\n",
        "25. What is the purpose of the __call__ method in Python?\n",
        "    - The __call__ method in Python allows an instance of a class to be called like a function. This means that objects of the class become callable, just like regular functions. Makes objects behave like functions while maintaining state. Useful in decorators, caching, and function-like behavior within a class. Enhances code flexibility by allowing instances to be invoked dynamically. The __call__ method can be used to store results and avoid redundant calculations. Reduces code complexity, improves flexibility.\n",
        "\n",
        "\n",
        "\n",
        "\n"
      ],
      "metadata": {
        "id": "uYBRWQGbye_F"
      }
    },
    {
      "cell_type": "code",
      "source": [
        "'''OOPs Practical Questions '''\n",
        "\n",
        "\n",
        "# 1. Create a parent class Animal with a method speak() that prints a generic message. Create a child class Dog that overrides the speak() method to print \"Bark!\".\n",
        "class Animal:\n",
        "    def speak(self):\n",
        "        print(\"Generic animal sound\")\n",
        "\n",
        "class Dog(Animal):\n",
        "    def speak(self):\n",
        "        print(\"Bark!\")\n",
        "\n",
        "\n",
        "animal = Animal()\n",
        "animal.speak()  # Output: This animal makes a sound.\n",
        "\n",
        "dog = Dog()\n",
        "dog.speak()  # Output: Bark!\n"
      ],
      "metadata": {
        "colab": {
          "base_uri": "https://localhost:8080/"
        },
        "id": "1vL5BMYrH0iQ",
        "outputId": "93d42ece-3d40-4812-b4cd-0f189be64dfd"
      },
      "execution_count": null,
      "outputs": [
        {
          "output_type": "stream",
          "name": "stdout",
          "text": [
            "Generic animal sound\n",
            "Bark!\n"
          ]
        }
      ]
    },
    {
      "cell_type": "code",
      "source": [
        "# 2.  Write a program to create an abstract class Shape with a method area(). Derive classes Circle and Rectangle from it and implement the area() method in both.\n",
        "\n",
        "from abc import ABC, abstractmethod\n",
        "\n",
        "class Shape(ABC):\n",
        "    @abstractmethod\n",
        "    def area(self):\n",
        "        pass\n",
        "\n",
        "class Circle(Shape):\n",
        "    def __init__(self, radius):\n",
        "        self.radius = radius\n",
        "\n",
        "    def area(self):\n",
        "        return 3.1416 * self.radius * self.radius\n",
        "\n",
        "class Rectangle(Shape):\n",
        "    def __init__(self, width, height):\n",
        "        self.width = width\n",
        "        self.height = height\n",
        "\n",
        "    def area(self):\n",
        "        return self.width * self.height\n",
        "\n",
        "circle = Circle(5)\n",
        "print(\"Circle area:\", circle.area())\n",
        "\n",
        "rectangle = Rectangle(4, 6)\n",
        "print(\"Rectangle area:\", rectangle.area())\n",
        "\n",
        "\n"
      ],
      "metadata": {
        "colab": {
          "base_uri": "https://localhost:8080/"
        },
        "id": "eEACtSFzKUL8",
        "outputId": "f045f472-0b8d-4070-e124-d447844d7fee"
      },
      "execution_count": null,
      "outputs": [
        {
          "output_type": "stream",
          "name": "stdout",
          "text": [
            "Circle area: 78.54\n",
            "Rectangle area: 24\n"
          ]
        }
      ]
    },
    {
      "cell_type": "code",
      "source": [
        "#3.  Implement a multi-level inheritance scenario where a class Vehicle has an attribute type. Derive a class Car and further derive a class ElectricCar that adds a battery attribute.\n",
        "\n",
        "class Vehicle:\n",
        "    def __init__(self, type):\n",
        "        self.type = type\n",
        "\n",
        "    def get_type(self):\n",
        "        return f\"Vehicle type: {self.type}\"\n",
        "\n",
        "class Car(Vehicle):\n",
        "    def __init__(self, type, brand):\n",
        "        super().__init__(type)\n",
        "        self.brand = brand\n",
        "\n",
        "    def get_brand(self):\n",
        "        return f\"Car brand: {self.brand}\"\n",
        "\n",
        "class ElectricCar(Car):\n",
        "    def __init__(self, type, brand, battery):\n",
        "        super().__init__(type, brand)\n",
        "        self.battery = battery\n",
        "\n",
        "    def get_battery(self):\n",
        "        return f\"Battery capacity: {self.battery} kWh\"\n",
        "\n",
        "vehicle = Vehicle(\"General\")\n",
        "print(vehicle.get_type())\n",
        "\n",
        "car = Car(\"Sedan\", \"Hyundai\")\n",
        "print(car.get_type())\n",
        "print(car.get_brand())\n",
        "\n",
        "electric_car = ElectricCar(\"Sedan\", \"Tesla\", 75)\n",
        "print(electric_car.get_type())\n",
        "print(electric_car.get_brand())\n",
        "print(electric_car.get_battery())\n",
        "\n"
      ],
      "metadata": {
        "colab": {
          "base_uri": "https://localhost:8080/"
        },
        "id": "SMJE-Ng0NVwu",
        "outputId": "379fe036-8fba-496a-ba7d-174a0a220cde"
      },
      "execution_count": null,
      "outputs": [
        {
          "output_type": "stream",
          "name": "stdout",
          "text": [
            "Vehicle type: General\n",
            "Vehicle type: Sedan\n",
            "Car brand: Hyundai\n",
            "Vehicle type: Sedan\n",
            "Car brand: Tesla\n",
            "Battery capacity: 75 kWh\n"
          ]
        }
      ]
    },
    {
      "cell_type": "code",
      "source": [
        "# 4.  Implement a multi-level inheritance scenario where a class Vehicle has an attribute type. Derive a class Car and further derive a class ElectricCar that adds a battery attribute.\n",
        "\n",
        "class Vehicle:\n",
        "    def __init__(self, type):\n",
        "        self.type = type\n",
        "\n",
        "    def get_type(self):\n",
        "        return f\"Vehicle type: {self.type}\"\n",
        "\n",
        "class Car(Vehicle):\n",
        "    def __init__(self, type, brand):\n",
        "        super().__init__(type)\n",
        "        self.brand = brand\n",
        "\n",
        "    def get_brand(self):\n",
        "        return f\"Car brand: {self.brand}\"\n",
        "\n",
        "class ElectricCar(Car):\n",
        "    def __init__(self, type, brand, battery):\n",
        "        super().__init__(type, brand)\n",
        "        self.battery = battery\n",
        "\n",
        "    def get_battery(self):\n",
        "        return f\"Battery capacity: {self.battery} kWh\"\n",
        "\n",
        "vehicle = Vehicle(\"General\")\n",
        "print(vehicle.get_type())\n",
        "\n",
        "car = Car(\"SUV\", \"Mahindra\")\n",
        "print(car.get_type())\n",
        "print(car.get_brand())\n",
        "\n",
        "electric_car = ElectricCar(\"Sedan\", \"TATA\", 75)\n",
        "print(electric_car.get_type())\n",
        "print(electric_car.get_brand())\n",
        "print(electric_car.get_battery())\n",
        "\n"
      ],
      "metadata": {
        "colab": {
          "base_uri": "https://localhost:8080/"
        },
        "id": "EO40bsN2PACM",
        "outputId": "b0a8bb44-ae4c-4efd-d2ab-e20be405e3d0"
      },
      "execution_count": null,
      "outputs": [
        {
          "output_type": "stream",
          "name": "stdout",
          "text": [
            "Vehicle type: General\n",
            "Vehicle type: SUV\n",
            "Car brand: Mahindra\n",
            "Vehicle type: Sedan\n",
            "Car brand: TATA\n",
            "Battery capacity: 75 kWh\n"
          ]
        }
      ]
    },
    {
      "cell_type": "code",
      "source": [
        "#5. Write a program to demonstrate encapsulation by creating a class BankAccount with private attributes balance and methods to deposit, withdraw, and check balance.\n",
        "\n",
        "class BankAccount:\n",
        "    def __init__(self, balance=0):\n",
        "        self.__balance = balance\n",
        "\n",
        "    def deposit(self, amount):\n",
        "        if amount > 0:\n",
        "            self.__balance += amount\n",
        "            return f\"Deposited: {amount}\"\n",
        "        return \"Invalid deposit amount\"\n",
        "\n",
        "    def withdraw(self, amount):\n",
        "        if 0 < amount <= self.__balance:\n",
        "            self.__balance -= amount\n",
        "            return f\"Withdrawn: {amount}\"\n",
        "        return \"Insufficient balance or invalid amount\"\n",
        "\n",
        "    def get_balance(self):\n",
        "        return f\"Current balance: {self.__balance}\"\n",
        "\n",
        "account = BankAccount(101)\n",
        "print(account.deposit(50))\n",
        "print(account.withdraw(30))\n",
        "print(account.get_balance())\n"
      ],
      "metadata": {
        "colab": {
          "base_uri": "https://localhost:8080/"
        },
        "id": "Wq4q5tVZPlDg",
        "outputId": "21db9311-585d-4612-d09e-682f8b2ad12f"
      },
      "execution_count": null,
      "outputs": [
        {
          "output_type": "stream",
          "name": "stdout",
          "text": [
            "Deposited: 50\n",
            "Withdrawn: 30\n",
            "Current balance: 121\n"
          ]
        }
      ]
    },
    {
      "cell_type": "code",
      "source": [
        "# 6.  Demonstrate runtime polymorphism using a method play() in a base class Instrument. Derive classes Guitar and Piano that implement their own version of play().\n",
        "\n",
        "class Instrument:\n",
        "    def play(self):\n",
        "        return \"Playing an instrument\"\n",
        "\n",
        "class Guitar(Instrument):\n",
        "    def play(self):\n",
        "        return \"Strumming the guitar\"\n",
        "\n",
        "class Piano(Instrument):\n",
        "    def play(self):\n",
        "        return \"Playing the piano\"\n",
        "\n",
        "def perform(instrument):\n",
        "    print(instrument.play())\n",
        "\n",
        "instrument = Instrument()\n",
        "guitar = Guitar()\n",
        "piano = Piano()\n",
        "\n",
        "perform(instrument)\n",
        "perform(guitar)\n",
        "perform(piano)\n"
      ],
      "metadata": {
        "colab": {
          "base_uri": "https://localhost:8080/"
        },
        "id": "fnuqr0SHP-Sq",
        "outputId": "a0c3fd89-f508-46b6-843c-8a3fadf196b1"
      },
      "execution_count": null,
      "outputs": [
        {
          "output_type": "stream",
          "name": "stdout",
          "text": [
            "Playing an instrument\n",
            "Strumming the guitar\n",
            "Playing the piano\n"
          ]
        }
      ]
    },
    {
      "cell_type": "code",
      "source": [
        "#7.  Create a class MathOperations with a class method add_numbers() to add two numbers and a static method subtract_numbers() to subtract two numbers.\n",
        "\n",
        "class MathOperations:\n",
        "    @classmethod\n",
        "    def add_numbers(cls, a, b):\n",
        "        return a + b\n",
        "\n",
        "    @staticmethod\n",
        "    def subtract_numbers(a, b):\n",
        "        return a - b\n",
        "\n",
        "print(MathOperations.add_numbers(5, 3))\n",
        "print(MathOperations.subtract_numbers(10, 4))\n",
        "\n"
      ],
      "metadata": {
        "colab": {
          "base_uri": "https://localhost:8080/"
        },
        "id": "ux5rCf9EQjY-",
        "outputId": "296b40fd-3c05-43fb-ed32-552efc859223"
      },
      "execution_count": null,
      "outputs": [
        {
          "output_type": "stream",
          "name": "stdout",
          "text": [
            "8\n",
            "6\n"
          ]
        }
      ]
    },
    {
      "cell_type": "code",
      "source": [
        "# 8. Implement a class Person with a class method to count the total number of persons created.\n",
        "\n",
        "class Person:\n",
        "    count = 0\n",
        "\n",
        "    def __init__(self, name):\n",
        "        self.name = name\n",
        "        Person.count += 1\n",
        "\n",
        "    @classmethod\n",
        "    def get_count(cls):\n",
        "        return f\"Total persons created: {cls.count}\"\n",
        "\n",
        "p1 = Person(\"Alice\")\n",
        "p2 = Person(\"Bob\")\n",
        "print(Person.get_count())\n"
      ],
      "metadata": {
        "colab": {
          "base_uri": "https://localhost:8080/"
        },
        "id": "cVbhULnURspP",
        "outputId": "b5aa748e-e25c-4ff0-acfc-b2892d4e640d"
      },
      "execution_count": null,
      "outputs": [
        {
          "output_type": "stream",
          "name": "stdout",
          "text": [
            "Total persons created: 2\n"
          ]
        }
      ]
    },
    {
      "cell_type": "code",
      "source": [
        "#9. Write a class Fraction with attributes numerator and denominator. Override the str method to display the fraction as \"numerator/denominator\".\n",
        "\n",
        "class Fraction:\n",
        "    def __init__(self, numerator, denominator):\n",
        "        self.numerator = numerator\n",
        "        self.denominator = denominator\n",
        "\n",
        "    def __str__(self):\n",
        "        return f\"{self.numerator}/{self.denominator}\"\n",
        "\n",
        "fraction = Fraction(3, 4)\n",
        "print(fraction)\n",
        "\n",
        "\n"
      ],
      "metadata": {
        "colab": {
          "base_uri": "https://localhost:8080/"
        },
        "id": "Mr8rBQLrSKGQ",
        "outputId": "fb4f67b8-998b-4945-f3c9-d1efa60eaa3d"
      },
      "execution_count": null,
      "outputs": [
        {
          "output_type": "stream",
          "name": "stdout",
          "text": [
            "3/4\n"
          ]
        }
      ]
    },
    {
      "cell_type": "code",
      "source": [
        "#10.  Demonstrate operator overloading by creating a class Vector and overriding the add method to add two vectors\n",
        "\n",
        "class Vector:\n",
        "    def __init__(self, x, y):\n",
        "        self.x = x\n",
        "        self.y = y\n",
        "\n",
        "    def __add__(self, other):\n",
        "        return Vector(self.x + other.x, self.y + other.y)\n",
        "\n",
        "    def __str__(self):\n",
        "        return f\"({self.x}, {self.y})\"\n",
        "\n",
        "v1 = Vector(2, 3)\n",
        "v2 = Vector(4, 5)\n",
        "v3 = v1 + v2\n",
        "print(v3)\n"
      ],
      "metadata": {
        "colab": {
          "base_uri": "https://localhost:8080/"
        },
        "id": "zSNFbUzgSdnA",
        "outputId": "a5c83042-802f-48cb-b32b-e0b015634051"
      },
      "execution_count": null,
      "outputs": [
        {
          "output_type": "stream",
          "name": "stdout",
          "text": [
            "(6, 8)\n"
          ]
        }
      ]
    },
    {
      "cell_type": "code",
      "source": [
        "#11. . Create a class Person with attributes name and age. Add a method greet() that prints \"Hello, my name is {name} and I am {age} years old.\n",
        "\n",
        "class Person:\n",
        "    def __init__(self, name, age):\n",
        "        self.name = name\n",
        "        self.age = age\n",
        "\n",
        "    def greet(self):\n",
        "        print(f\"Hello, my name is {self.name} and I am {self.age} years old.\")\n",
        "\n",
        "person = Person(\"Atul\", 26)\n",
        "person.greet()"
      ],
      "metadata": {
        "colab": {
          "base_uri": "https://localhost:8080/"
        },
        "id": "FRcKq28WS2yr",
        "outputId": "1f0ce3ff-012c-469b-e959-60c0739c8457"
      },
      "execution_count": null,
      "outputs": [
        {
          "output_type": "stream",
          "name": "stdout",
          "text": [
            "Hello, my name is Atul and I am 26 years old.\n"
          ]
        }
      ]
    },
    {
      "cell_type": "code",
      "source": [
        "#12. . Implement a class Student with attributes name and grades. Create a method average_grade() to compute the average of the grades\n",
        "\n",
        "\n",
        "\n",
        "class Student(Person):\n",
        "    def __init__(self, name, age, grades):\n",
        "        self.name = name\n",
        "        self.age = age\n",
        "        self.grades = grades\n",
        "\n",
        "    def average_grade(self):\n",
        "        return sum(self.grades) / len(self.grades) if self.grades else 0\n",
        "\n",
        "\n",
        "student = Student(\"XYZ\", 20, [85, 90, 78])\n",
        "print(f\"{student.name}'s average grade is {student.average_grade()}\")\n",
        "\n"
      ],
      "metadata": {
        "colab": {
          "base_uri": "https://localhost:8080/"
        },
        "id": "phekufw2TO81",
        "outputId": "41af0f65-5fa5-489b-f4d2-2f4032116d57"
      },
      "execution_count": null,
      "outputs": [
        {
          "output_type": "stream",
          "name": "stdout",
          "text": [
            "XYZ's average grade is 84.33333333333333\n"
          ]
        }
      ]
    },
    {
      "cell_type": "code",
      "source": [
        "#13.  Create a class Rectangle with methods set_dimensions() to set the dimensions and area() to calculate the area.\n",
        "\n",
        "\n",
        "\n",
        "class Rectangle:\n",
        "    def __init__(self):\n",
        "        self.width = 0\n",
        "        self.height = 0\n",
        "\n",
        "    def set_dimensions(self, width, height):\n",
        "        self.width = width\n",
        "        self.height = height\n",
        "\n",
        "    def area(self):\n",
        "        return self.width * self.height\n",
        "\n",
        "\n",
        "rectangle = Rectangle()\n",
        "rectangle.set_dimensions(5, 10)\n",
        "print(f\"Rectangle area: {rectangle.area()}\")\n"
      ],
      "metadata": {
        "colab": {
          "base_uri": "https://localhost:8080/"
        },
        "id": "d1UHduNCTuyl",
        "outputId": "a504abd1-25c9-405b-a740-c3846778a6a3"
      },
      "execution_count": null,
      "outputs": [
        {
          "output_type": "stream",
          "name": "stdout",
          "text": [
            "Rectangle area: 50\n"
          ]
        }
      ]
    },
    {
      "cell_type": "code",
      "source": [
        "#14. Create a class Employee with a method calculate_salary() that computes the salary based on hours worked and hourly rate. Create a derived class Manager that adds a bonus to the salary.\n",
        "\n",
        "class Employee:\n",
        "    def __init__(self, name, hourly_rate):\n",
        "        self.name = name\n",
        "        self.hourly_rate = hourly_rate\n",
        "\n",
        "    def calculate_salary(self, hours_worked):\n",
        "        return self.hourly_rate * hours_worked\n",
        "\n",
        "class Manager(Employee):\n",
        "    def __init__(self, name, hourly_rate, bonus):\n",
        "        super().__init__(name, hourly_rate)\n",
        "        self.bonus = bonus\n",
        "\n",
        "    def calculate_salary(self, hours_worked):\n",
        "        return super().calculate_salary(hours_worked) + self.bonus\n",
        "\n",
        "employee = Employee(\"Charlie\", 20)\n",
        "print(f\"{employee.name}'s salary: {employee.calculate_salary(40)}\")\n",
        "\n",
        "manager = Manager(\"Dave\", 30, 500)\n",
        "print(f\"{manager.name}'s salary: {manager.calculate_salary(40)}\")"
      ],
      "metadata": {
        "colab": {
          "base_uri": "https://localhost:8080/"
        },
        "id": "OalcUdpFV0lW",
        "outputId": "460ba54f-afd7-4013-cb80-cc5bb51a6b10"
      },
      "execution_count": null,
      "outputs": [
        {
          "output_type": "stream",
          "name": "stdout",
          "text": [
            "Charlie's salary: 800\n",
            "Dave's salary: 1700\n"
          ]
        }
      ]
    },
    {
      "cell_type": "code",
      "source": [
        "#15.  Create a class Product with attributes name, price, and quantity. Implement a method total_price() that calculates the total price of the product.\n",
        "\n",
        "class Product:\n",
        "    def __init__(self, name, price, quantity):\n",
        "        self.name = name\n",
        "        self.price = price\n",
        "        self.quantity = quantity\n",
        "\n",
        "    def total_price(self):\n",
        "        return self.price * self.quantity\n",
        "\n",
        "product = Product(\"Laptop\", 10000, 3)\n",
        "print(f\"Total price of {product.name}: {product.total_price()}\")\n"
      ],
      "metadata": {
        "colab": {
          "base_uri": "https://localhost:8080/"
        },
        "id": "hQ-HeNdIWZtJ",
        "outputId": "1fb80d5e-60d7-47a9-9479-0b88bdcb7f32"
      },
      "execution_count": null,
      "outputs": [
        {
          "output_type": "stream",
          "name": "stdout",
          "text": [
            "Total price of Laptop: 30000\n"
          ]
        }
      ]
    },
    {
      "cell_type": "code",
      "source": [
        "#16.  Create a class Animal with an abstract method sound(). Create two derived classes Cow and Sheep that implement the sound() method.\n",
        "\n",
        "from abc import ABC, abstractmethod\n",
        "\n",
        "class Animal(ABC):\n",
        "    @abstractmethod\n",
        "    def sound(self):\n",
        "        pass\n",
        "\n",
        "class Cow(Animal):\n",
        "    def sound(self):\n",
        "        return \"Moo\"\n",
        "\n",
        "class Sheep(Animal):\n",
        "    def sound(self):\n",
        "        return \"Baa\"\n",
        "\n",
        "cow = Cow()\n",
        "sheep = Sheep()\n",
        "print(f\"Cow sound: {cow.sound()}\")\n",
        "print(f\"Sheep sound: {sheep.sound()}\")\n"
      ],
      "metadata": {
        "colab": {
          "base_uri": "https://localhost:8080/"
        },
        "id": "XxYUJBlLW0V-",
        "outputId": "ebf2399f-2399-4c43-bdfe-3587f8e664ca"
      },
      "execution_count": null,
      "outputs": [
        {
          "output_type": "stream",
          "name": "stdout",
          "text": [
            "Cow sound: Moo\n",
            "Sheep sound: Baa\n"
          ]
        }
      ]
    },
    {
      "cell_type": "code",
      "source": [
        "#17.  Create a class Book with attributes title, author, and year_published. Add a method get_book_info() that returns a formatted string with the book's details.\n",
        "\n",
        "class Book:\n",
        "    def __init__(self, title, author, year_published):\n",
        "        self.title = title\n",
        "        self.author = author\n",
        "        self.year_published = year_published\n",
        "\n",
        "    def get_book_info(self):\n",
        "        return f\"'{self.title}' by {self.author}, published in {self.year_published}\"\n",
        "\n",
        "book = Book(\"1984\", \"George Orwell\", 1949)\n",
        "print(book.get_book_info())"
      ],
      "metadata": {
        "colab": {
          "base_uri": "https://localhost:8080/"
        },
        "id": "d34KTizCXJi5",
        "outputId": "7d56e7a8-975c-4801-92ce-6ed7a03f48e2"
      },
      "execution_count": null,
      "outputs": [
        {
          "output_type": "stream",
          "name": "stdout",
          "text": [
            "'1984' by George Orwell, published in 1949\n"
          ]
        }
      ]
    },
    {
      "cell_type": "code",
      "source": [
        "#18.  Create a class House with attributes address and price. Create a derived class Mansion that adds an attribute number_of_rooms.\n",
        "\n",
        "class House:\n",
        "    def __init__(self, address, price):\n",
        "        self.address = address\n",
        "        self.price = price\n",
        "\n",
        "    def get_details(self):\n",
        "        return f\"Address: {self.address}, Price: ${self.price}\"\n",
        "\n",
        "class Mansion(House):\n",
        "    def __init__(self, address, price, number_of_rooms):\n",
        "        super().__init__(address, price)\n",
        "        self.number_of_rooms = number_of_rooms\n",
        "\n",
        "    def get_details(self):\n",
        "        return f\"Address: {self.address}, Price: ${self.price}, Rooms: {self.number_of_rooms}\"\n",
        "\n",
        "house = House(\"123 Main St\", 250000)\n",
        "print(house.get_details())\n",
        "\n",
        "mansion = Mansion(\"456 Luxury Rd\", 5000000, 10)\n",
        "print(mansion.get_details())\n"
      ],
      "metadata": {
        "colab": {
          "base_uri": "https://localhost:8080/"
        },
        "id": "h5BIIgvbXcna",
        "outputId": "caa8200b-ebea-46c6-e4b8-7ea4312dd545"
      },
      "execution_count": null,
      "outputs": [
        {
          "output_type": "stream",
          "name": "stdout",
          "text": [
            "Address: 123 Main St, Price: $250000\n",
            "Address: 456 Luxury Rd, Price: $5000000, Rooms: 10\n"
          ]
        }
      ]
    }
  ]
}