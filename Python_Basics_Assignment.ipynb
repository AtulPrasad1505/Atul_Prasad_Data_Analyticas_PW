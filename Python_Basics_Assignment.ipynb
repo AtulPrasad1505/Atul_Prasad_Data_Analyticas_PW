{
  "nbformat": 4,
  "nbformat_minor": 0,
  "metadata": {
    "colab": {
      "provenance": []
    },
    "kernelspec": {
      "name": "python3",
      "display_name": "Python 3"
    },
    "language_info": {
      "name": "python"
    }
  },
  "cells": [
    {
      "cell_type": "code",
      "execution_count": null,
      "metadata": {
        "id": "7UTTqnY6vMes"
      },
      "outputs": [],
      "source": []
    },
    {
      "cell_type": "markdown",
      "source": [
        "1. What is Python, and why is it popular ?\n",
        "  - Python is high demand and popular programming language. It is Easy to learn, Versatile, Open sourece and has larg standard libraries. Python is commonly used for devloping websites and softwares, tasks automation, data analysys and data visualisation.\n",
        "\n",
        "2.  What is an interpreter in Python ?\n",
        "  - Interpreter convert informastion from one language into another language. Python interprerter is a program that reads and execute the Python code line  by line, it translate the code into machine readable byte-code.\n",
        "\n",
        "3. What are pre-defined keywords in Python ?\n",
        "  - Pre-defined keywords in Python are some reserved words which have specific meaning and cannot be changed by the programmer. These are pasrt of syntax and cannot be used as identifires in the program. eg- print(), int(), float() etc.\n",
        "\n",
        "4. Can keywords be used as variable name?\n",
        "  - No we can't use the keywords as a variable name in Python, as the keywords are the reserved words that have specific meaning which use to define structure and syntax of the programming language.\n",
        "\n",
        "5. What is mutability in Python?\n",
        "  - Mutability means to changing or modifing the value of an object after it has been created.\n",
        "\n",
        "6.  Why are lists mutable, but tuples are immutable?\n",
        "  - Lists are mutable beacuse we can change or modify the values/elements of the lists after creation, but we cannot change the elemets of the Tuples once we create it due to which it is called as immutable.\n",
        "\n",
        "7. What is the difference between “==” and “is” operators in Python?\n",
        "  - \"==\" operator checkes for the values of the two variables are equeal or not, it returns True if the values of two variable are equal, where as \"is\" operator checks if the two variables refer to the same object in memory or not, it returns True if two variable refer to the same object in memory.\n",
        "\n",
        "8.  What are logical operators in Python?\n",
        "  - Logical operators are symbol or word use to combine multiple conditions together and evaluate them as a single boolean expression,eg- 'and', 'or' and 'not'.\n",
        "\n",
        "9. What is type casting in Python?\n",
        "  - The process of converting a variable's data type from one type to another is called Type Casting.\n",
        "\n",
        "10. What is the difference between implicit and explicit type casting?\n",
        "  - The Type casting which happens automatically by the compiler is called implicite type casting, and when programmer write code to explicitly instruct the compiler to make specific conversion it is called explicite casting.\n",
        "\n",
        "11. What is the purpose of conditional statements in Python?\n",
        "  - A conditional statement detremine the flow of the code execution  and its direction based on certion conditions. condition statement are used to justify the given condition or two statements as true or false, it decides the control flow of the program according to the output of the given condition.\n",
        "\n",
        "12.  How does the elif statement work?\n",
        "  - Elif statement is the part of conditional statement, it is use to check for the multiple conditions, if the firt condition is false, it moves on to the next 'elif' statement to check if that condition is true.\n",
        "\n",
        "13. What is the difference between for and while loops?\n",
        "  - for loop is best use when number of iterations is known in advance, where the while loop is used when the number of iterations is unknown in advance.\n",
        "\n",
        "14.  Describe a scenario where a while loop is more suitable than a for loop?\n",
        "  - While loops are better for more complicated looping requirements, While loop are use when you want to have logic dictate when to exit the loop, when we have to continue the looping until a specific condition is met, rather than a set number of times.\n",
        "\n"
      ],
      "metadata": {
        "id": "crQKB8I_vbyq"
      }
    },
    {
      "cell_type": "code",
      "source": [],
      "metadata": {
        "id": "NwnQk4on_iG-"
      },
      "execution_count": null,
      "outputs": []
    },
    {
      "cell_type": "markdown",
      "source": [
        "Practical Questions :"
      ],
      "metadata": {
        "id": "kKvNyHzX_vGk"
      }
    },
    {
      "cell_type": "code",
      "source": [
        "# Q-1 Write a Python program to print \"Hello, World!\"\n",
        "\n",
        "print(\"Hello, world\")\n"
      ],
      "metadata": {
        "colab": {
          "base_uri": "https://localhost:8080/"
        },
        "id": "4pOyZKRk_2zR",
        "outputId": "8c64eeeb-6dcd-4917-8e8d-09e32db93ad2"
      },
      "execution_count": null,
      "outputs": [
        {
          "output_type": "stream",
          "name": "stdout",
          "text": [
            "Hello, world\n"
          ]
        }
      ]
    },
    {
      "cell_type": "code",
      "source": [
        "# Q-2 Write a Python program that displays your name and age..\n",
        "\n",
        "name=input(\"Enter your Name: \")\n",
        "age=int(input(\"Enter your age: \"))\n",
        "print(f\"My Name is {name}  and age is {age}\")\n"
      ],
      "metadata": {
        "colab": {
          "base_uri": "https://localhost:8080/"
        },
        "id": "3R7onA8HATvR",
        "outputId": "a6e90f3b-9bda-449b-8626-d47574f81ab3"
      },
      "execution_count": null,
      "outputs": [
        {
          "output_type": "stream",
          "name": "stdout",
          "text": [
            "Enter your Name: Atul\n",
            "Enter your age: 26\n",
            "My Name is Atul  and age is 26\n"
          ]
        }
      ]
    },
    {
      "cell_type": "code",
      "source": [
        "# Q-3 Write code to print all the pre-defined keywords in Python using the keyword library.\n",
        "\n",
        "import keyword\n",
        "\n",
        "keywords = keyword.kwlist\n",
        "\n",
        "print(\"List of Python Keywords: \")\n",
        "for kw in keywords:\n",
        "  print(kw)"
      ],
      "metadata": {
        "colab": {
          "base_uri": "https://localhost:8080/"
        },
        "id": "9UYOth42BiYx",
        "outputId": "6d26f78c-8df2-4488-c3b3-a6649c88ff91"
      },
      "execution_count": null,
      "outputs": [
        {
          "output_type": "stream",
          "name": "stdout",
          "text": [
            "List of Python Keywords: \n",
            "False\n",
            "None\n",
            "True\n",
            "and\n",
            "as\n",
            "assert\n",
            "async\n",
            "await\n",
            "break\n",
            "class\n",
            "continue\n",
            "def\n",
            "del\n",
            "elif\n",
            "else\n",
            "except\n",
            "finally\n",
            "for\n",
            "from\n",
            "global\n",
            "if\n",
            "import\n",
            "in\n",
            "is\n",
            "lambda\n",
            "nonlocal\n",
            "not\n",
            "or\n",
            "pass\n",
            "raise\n",
            "return\n",
            "try\n",
            "while\n",
            "with\n",
            "yield\n"
          ]
        }
      ]
    },
    {
      "cell_type": "code",
      "source": [
        "# Q-4 Write a program that checks if a given word is a Python keyword.\n",
        "\n",
        "import keyword\n",
        "\n",
        "def is_keyword(w):\n",
        "\n",
        "    return keyword.iskeyword(w)\n",
        "\n",
        "w = input(\"Enter a word: \")\n",
        "\n",
        "if is_keyword(w):\n",
        "    print(f\"'{w}' is a Python keyword.\")\n",
        "else:\n",
        "    print(f\"'{w}' is not a Python keyword.\")\n"
      ],
      "metadata": {
        "colab": {
          "base_uri": "https://localhost:8080/"
        },
        "id": "t9VWR9ghCmjw",
        "outputId": "eb886aa0-8612-4172-fdcd-ef4cef108f99"
      },
      "execution_count": null,
      "outputs": [
        {
          "output_type": "stream",
          "name": "stdout",
          "text": [
            "Enter a word: for\n",
            "'for' is a Python keyword.\n"
          ]
        }
      ]
    },
    {
      "cell_type": "code",
      "source": [
        "# Q-5 Create a list and tuple in Python, and demonstrate how attempting to change an element works differently for each.\n",
        "\n",
        "\n",
        "my_List = [1, 2, 3, 4, 5]\n",
        "my_Tuple = (1, 2, 3, 4, 5)\n",
        "\n",
        "try:\n",
        "    my_List[2] = 91\n",
        "    print(\"List after change:\", my_List)\n",
        "except TypeError as e:\n",
        "    print(\"Error while changing list:\", e)\n",
        "\n",
        "try:\n",
        "    my_Tuple[2] = 91\n",
        "    print(\"Tuple after change:\", my_Tuple)\n",
        "except TypeError as e:\n",
        "    print(\"Error while changing tuple:\", e)\n",
        "\n"
      ],
      "metadata": {
        "colab": {
          "base_uri": "https://localhost:8080/"
        },
        "id": "lRcyQWOhD9b5",
        "outputId": "c885d901-4649-4f21-8041-41c1a55fd8bf"
      },
      "execution_count": null,
      "outputs": [
        {
          "output_type": "stream",
          "name": "stdout",
          "text": [
            "List after change: [1, 2, 91, 4, 5]\n",
            "Error while changing tuple: 'tuple' object does not support item assignment\n"
          ]
        }
      ]
    },
    {
      "cell_type": "code",
      "source": [
        "# Q-6  Write a function to demonstrate the behavior of mutable and immutable arguments?\n",
        "\n",
        "def demonstrate_mutable_and_immutable():\n",
        "    def modify_immutable(value):\n",
        "        print(f\"Initial immutable value: {value}\")\n",
        "        value += 10\n",
        "        print(f\"Modified immutable value inside function: {value}\")\n",
        "\n",
        "    def modify_mutable(lst):\n",
        "        print(f\"Initial mutable list: {lst}\")\n",
        "        lst.append(90)\n",
        "        print(f\"Modified mutable list inside function: {lst}\")\n",
        "\n",
        "    x = 5\n",
        "    print(f\"Before function call, x = {x}\")\n",
        "    modify_immutable(x)\n",
        "    print(f\"After function call, x = {x}\\n\")\n",
        "\n",
        "    my_list = [1, 2, 3, 4]\n",
        "    print(f\"Before function call, my_list = {my_list}\")\n",
        "    modify_mutable(my_list)\n",
        "    print(f\"After function call, my_list = {my_list}\")\n",
        "\n",
        "demonstrate_mutable_and_immutable()\n"
      ],
      "metadata": {
        "id": "weZtobb6FkH8",
        "colab": {
          "base_uri": "https://localhost:8080/"
        },
        "outputId": "484eec23-da22-4704-ce9e-d69fd114b3fd"
      },
      "execution_count": 1,
      "outputs": [
        {
          "output_type": "stream",
          "name": "stdout",
          "text": [
            "Before function call, x = 5\n",
            "Initial immutable value: 5\n",
            "Modified immutable value inside function: 15\n",
            "After function call, x = 5\n",
            "\n",
            "Before function call, my_list = [1, 2, 3, 4]\n",
            "Initial mutable list: [1, 2, 3, 4]\n",
            "Modified mutable list inside function: [1, 2, 3, 4, 90]\n",
            "After function call, my_list = [1, 2, 3, 4, 90]\n"
          ]
        }
      ]
    },
    {
      "cell_type": "code",
      "source": [
        "# Q-7 Write a function to demonstrate the behavior of mutable and immutable arguments?\n",
        "\n",
        "def demonstrate_mutable_and_immutable():\n",
        "    def modify_immutable(value):\n",
        "        print(f\"Initial immutable value: {value}\")\n",
        "        value += 10\n",
        "        print(f\"Modified immutable value inside function: {value}\")\n",
        "\n",
        "    def modify_mutable(lst):\n",
        "        print(f\"Initial mutable list: {lst}\")\n",
        "        lst.append(90)\n",
        "        print(f\"Modified mutable list inside function: {lst}\")\n",
        "\n",
        "    x = 5\n",
        "    print(f\"Before function call, x = {x}\")\n",
        "    modify_immutable(x)\n",
        "    print(f\"After function call, x = {x}\\n\")\n",
        "\n",
        "    my_list = [1, 2, 3, 4]\n",
        "    print(f\"Before function call, my_list = {my_list}\")\n",
        "    modify_mutable(my_list)\n",
        "    print(f\"After function call, my_list = {my_list}\")\n",
        "\n",
        "demonstrate_mutable_and_immutable()"
      ],
      "metadata": {
        "colab": {
          "base_uri": "https://localhost:8080/"
        },
        "id": "2EMM_v9YLx-8",
        "outputId": "d01e54a4-718f-44f4-c89e-b3d6d3906bba"
      },
      "execution_count": 2,
      "outputs": [
        {
          "output_type": "stream",
          "name": "stdout",
          "text": [
            "Before function call, x = 5\n",
            "Initial immutable value: 5\n",
            "Modified immutable value inside function: 15\n",
            "After function call, x = 5\n",
            "\n",
            "Before function call, my_list = [1, 2, 3, 4]\n",
            "Initial mutable list: [1, 2, 3, 4]\n",
            "Modified mutable list inside function: [1, 2, 3, 4, 90]\n",
            "After function call, my_list = [1, 2, 3, 4, 90]\n"
          ]
        }
      ]
    },
    {
      "cell_type": "code",
      "source": [
        "# Q-8  Write a program to demonstrate the use of logical operators ?\n",
        "\n",
        "def logical_operators():\n",
        "\n",
        "    a = True\n",
        "    b = False\n",
        "    c = 5\n",
        "    d = 10\n",
        "\n",
        "    # Logical AND\n",
        "    print(\"Logical AND:\")\n",
        "    print(f\"a and b: {a and b}\")  # Both must be True\n",
        "    print(f\"(c > 0) and (d < 20): {(c > 0) and (d < 20)}\")  # Both conditions are True\n",
        "    print(f\"(c > 0) and (d > 20): {(c > 0) and (d > 20)}\\n\")  # One condition is False\n",
        "\n",
        "    # Logical OR\n",
        "    print(\"Logical OR:\")\n",
        "    print(f\"a or b: {a or b}\")  # At least one must be True\n",
        "    print(f\"(c > 0) or (d > 20): {(c > 0) or (d > 20)}\")  # One condition is True\n",
        "    print(f\"(c < 0) or (d > 20): {(c < 0) or (d > 20)}\\n\")  # Both conditions are False\n",
        "\n",
        "    # Logical NOT\n",
        "    print(\"Logical NOT:\")\n",
        "    print(f\"not a: {not a}\")  # Inverts True to False\n",
        "    print(f\"not b: {not b}\")  # Inverts False to True\n",
        "    print(f\"not (c < 0): {not (c < 0)}\\n\")  # Inverts the result of the condition\n",
        "\n",
        "    # Combining logical operators\n",
        "    print(\"Combining Logical Operators:\")\n",
        "    print(f\"(a and b) or (c > 0): {(a and b) or (c > 0)}\")  # Combines AND and OR\n",
        "    print(f\"not (a and (d < 5)): {not (a and (d < 5))}\")  # Combines NOT and AND\n",
        "\n",
        "logical_operators()\n"
      ],
      "metadata": {
        "colab": {
          "base_uri": "https://localhost:8080/"
        },
        "id": "-v9_Jn47MJct",
        "outputId": "5dbb41ef-dcf9-4d50-a523-7a2c0e2c78d8"
      },
      "execution_count": 3,
      "outputs": [
        {
          "output_type": "stream",
          "name": "stdout",
          "text": [
            "Logical AND:\n",
            "a and b: False\n",
            "(c > 0) and (d < 20): True\n",
            "(c > 0) and (d > 20): False\n",
            "\n",
            "Logical OR:\n",
            "a or b: True\n",
            "(c > 0) or (d > 20): True\n",
            "(c < 0) or (d > 20): False\n",
            "\n",
            "Logical NOT:\n",
            "not a: False\n",
            "not b: True\n",
            "not (c < 0): True\n",
            "\n",
            "Combining Logical Operators:\n",
            "(a and b) or (c > 0): True\n",
            "not (a and (d < 5)): True\n"
          ]
        }
      ]
    },
    {
      "cell_type": "code",
      "source": [
        "# Q-9 Write a Python program to convert user input from string to integer, float, and boolean types?\n",
        "\n",
        "def user_input():\n",
        "    user_input = input(\"Enter a value: \")\n",
        "\n",
        "    # Convert to integer\n",
        "    try:\n",
        "        int_value = int(user_input)\n",
        "        print(f\"Integer: {int_value}\")\n",
        "    except ValueError:\n",
        "        print(\"Cannot convert to Integer.\")\n",
        "\n",
        "    # Convert to float\n",
        "    try:\n",
        "        float_value = float(user_input)\n",
        "        print(f\"Float: {float_value}\")\n",
        "    except ValueError:\n",
        "        print(\"Cannot convert to Float.\")\n",
        "\n",
        "    # Convert to boolean\n",
        "    # Empty strings or \"0\" evaluate to False, all other values evaluate to True\n",
        "    if user_input.lower() in [\"false\", \"0\", \"\", \"none\"]:\n",
        "        bool_value = False\n",
        "    else:\n",
        "        bool_value = True\n",
        "    print(f\"Boolean: {bool_value}\")\n",
        "\n",
        "# Call the function\n",
        "user_input()\n"
      ],
      "metadata": {
        "colab": {
          "base_uri": "https://localhost:8080/"
        },
        "id": "_cgxJ2_jNXxQ",
        "outputId": "1595da5d-2397-44fc-b56d-73cdb26d89f4"
      },
      "execution_count": 9,
      "outputs": [
        {
          "output_type": "stream",
          "name": "stdout",
          "text": [
            "Enter a value: 123\n",
            "Integer: 123\n",
            "Float: 123.0\n",
            "Boolean: True\n"
          ]
        }
      ]
    },
    {
      "cell_type": "code",
      "source": [
        "# Q-10 Write code to demonstrate type casting with list elements?\n",
        "\n",
        "def list_type_casting():\n",
        "\n",
        "    A_list = [\"123\", \"12.89\", \"True\", \"False\", \"hello\"]\n",
        "    print(f\"Original List: {A_list}\")\n",
        "\n",
        "    # Convert list elements to integer (if possible)\n",
        "    int_list = []\n",
        "    for item in A_list:\n",
        "        try:\n",
        "            int_list.append(int(item))\n",
        "        except ValueError:\n",
        "            int_list.append(None)  # Use None for items that can't be converted\n",
        "    print(f\"List after casting to Integer: {int_list}\")\n",
        "\n",
        "    # Convert list elements to float (if possible)\n",
        "    float_list = []\n",
        "    for item in A_list:\n",
        "        try:\n",
        "            float_list.append(float(item))\n",
        "        except ValueError:\n",
        "            float_list.append(None)  # Use None for items that can't be converted\n",
        "    print(f\"List after casting to Float: {float_list}\")\n",
        "\n",
        "    # Convert list elements to boolean\n",
        "    bool_list = []\n",
        "    for item in A_list:\n",
        "        # Empty strings or \"0\" are False; other values are True\n",
        "        if item.lower() in [\"false\", \"0\", \"\", \"none\"]:\n",
        "            bool_list.append(False)\n",
        "        else:\n",
        "            bool_list.append(True)\n",
        "    print(f\"List after casting to Boolean: {bool_list}\")\n",
        "\n",
        "# Call the function\n",
        "list_type_casting()\n",
        "\n"
      ],
      "metadata": {
        "colab": {
          "base_uri": "https://localhost:8080/"
        },
        "id": "Ki3fEqtvOt2v",
        "outputId": "379c0658-f11f-448a-f331-8caf598a48b0"
      },
      "execution_count": 11,
      "outputs": [
        {
          "output_type": "stream",
          "name": "stdout",
          "text": [
            "Original List: ['123', '12.89', 'True', 'False', 'hello']\n",
            "List after casting to Integer: [123, None, None, None, None]\n",
            "List after casting to Float: [123.0, 12.89, None, None, None]\n",
            "List after casting to Boolean: [True, True, True, False, True]\n"
          ]
        }
      ]
    },
    {
      "cell_type": "code",
      "source": [
        "# Q-11  Write a program that checks if a number is positive, negative, or zero ?\n",
        "\n",
        "def check_number():\n",
        "    try:\n",
        "        number = float(input(\"Enter a number: \"))\n",
        "\n",
        "        if number > 0:\n",
        "            print(f\"The number {number} is positive.\")\n",
        "        elif number < 0:\n",
        "            print(f\"The number {number} is negative.\")\n",
        "        else:\n",
        "            print(\"The number is zero.\")\n",
        "    except ValueError:\n",
        "        print(\"Invalid input. Please enter a numeric value.\")\n",
        "\n",
        "check_number()\n"
      ],
      "metadata": {
        "colab": {
          "base_uri": "https://localhost:8080/"
        },
        "id": "KoEYm5doP_GA",
        "outputId": "b028df28-b530-4130-d8e5-85a2381f9e5b"
      },
      "execution_count": 14,
      "outputs": [
        {
          "output_type": "stream",
          "name": "stdout",
          "text": [
            "Enter a number: 0\n",
            "The number is zero.\n"
          ]
        }
      ]
    },
    {
      "cell_type": "code",
      "source": [
        "# Q-12 Write a for loop to print numbers from 1 to 100 ?\n",
        "\n",
        "for  i in range(1,101):\n",
        "  print(i)"
      ],
      "metadata": {
        "colab": {
          "base_uri": "https://localhost:8080/"
        },
        "id": "aP6_UnVTRUXM",
        "outputId": "9cb25f6c-13c5-42f8-d070-31b5e0f16a61"
      },
      "execution_count": 16,
      "outputs": [
        {
          "output_type": "stream",
          "name": "stdout",
          "text": [
            "1\n",
            "2\n",
            "3\n",
            "4\n",
            "5\n",
            "6\n",
            "7\n",
            "8\n",
            "9\n",
            "10\n",
            "11\n",
            "12\n",
            "13\n",
            "14\n",
            "15\n",
            "16\n",
            "17\n",
            "18\n",
            "19\n",
            "20\n",
            "21\n",
            "22\n",
            "23\n",
            "24\n",
            "25\n",
            "26\n",
            "27\n",
            "28\n",
            "29\n",
            "30\n",
            "31\n",
            "32\n",
            "33\n",
            "34\n",
            "35\n",
            "36\n",
            "37\n",
            "38\n",
            "39\n",
            "40\n",
            "41\n",
            "42\n",
            "43\n",
            "44\n",
            "45\n",
            "46\n",
            "47\n",
            "48\n",
            "49\n",
            "50\n",
            "51\n",
            "52\n",
            "53\n",
            "54\n",
            "55\n",
            "56\n",
            "57\n",
            "58\n",
            "59\n",
            "60\n",
            "61\n",
            "62\n",
            "63\n",
            "64\n",
            "65\n",
            "66\n",
            "67\n",
            "68\n",
            "69\n",
            "70\n",
            "71\n",
            "72\n",
            "73\n",
            "74\n",
            "75\n",
            "76\n",
            "77\n",
            "78\n",
            "79\n",
            "80\n",
            "81\n",
            "82\n",
            "83\n",
            "84\n",
            "85\n",
            "86\n",
            "87\n",
            "88\n",
            "89\n",
            "90\n",
            "91\n",
            "92\n",
            "93\n",
            "94\n",
            "95\n",
            "96\n",
            "97\n",
            "98\n",
            "99\n",
            "100\n"
          ]
        }
      ]
    },
    {
      "cell_type": "code",
      "source": [
        "# Q-13 Write a Python program to find the sum of all even numbers between 1 and 500 ?\n",
        "\n",
        "sum_of_evens = 0\n",
        "\n",
        "for i in range(1, 501):\n",
        "    if i % 2 == 0:\n",
        "        sum_of_evens += i\n",
        "\n",
        "print(f\"The sum of all even numbers between 1 and 500 is: {sum_of_evens}\")\n"
      ],
      "metadata": {
        "colab": {
          "base_uri": "https://localhost:8080/"
        },
        "id": "xgc_bVTpTvOS",
        "outputId": "bbdb9bd3-1ec9-4cb5-8746-2f58564e5a67"
      },
      "execution_count": 18,
      "outputs": [
        {
          "output_type": "stream",
          "name": "stdout",
          "text": [
            "The sum of all even numbers between 1 and 500 is: 62750\n"
          ]
        }
      ]
    },
    {
      "cell_type": "code",
      "source": [
        "# Q-14  Write a program to reverse a string using a while loop ?\n",
        "\n",
        "def reverse_string(input_string):\n",
        "    reversed_string = \"\"\n",
        "\n",
        "    i= len(input_string) - 1\n",
        "\n",
        "    while i >= 0:\n",
        "        reversed_string += input_string[i]\n",
        "        i -= 1\n",
        "    return reversed_string\n",
        "\n",
        "user_input = input(\"Enter a string to reverse: \")\n",
        "reversed_result = reverse_string(user_input)\n",
        "print(f\"The reversed string is: {reversed_result}\")\n",
        "\n",
        "\n"
      ],
      "metadata": {
        "colab": {
          "base_uri": "https://localhost:8080/"
        },
        "id": "pHPPMNbfUaTP",
        "outputId": "07bc4103-cadd-4e4d-c70a-6cc1e262bfa3"
      },
      "execution_count": 20,
      "outputs": [
        {
          "output_type": "stream",
          "name": "stdout",
          "text": [
            "Enter a string to reverse: hi\n",
            "The reversed string is: ih\n"
          ]
        }
      ]
    },
    {
      "cell_type": "code",
      "source": [
        "# Q-15 Write a Python program to calculate the factorial of a number provided by the user using a while loop ?\n",
        "\n",
        "def calculate_factorial():\n",
        "    try:\n",
        "        num = int(input(\"Enter a non-negative integer to calculate its factorial: \"))\n",
        "\n",
        "        if num < 0:\n",
        "            print(\"Factorial is not defined for negative numbers.\")\n",
        "            return\n",
        "\n",
        "        factorial = 1\n",
        "        current = num\n",
        "\n",
        "        while current > 0:\n",
        "            factorial *= current\n",
        "            current -= 1\n",
        "\n",
        "        print(f\"The factorial of {num} is: {factorial}\")\n",
        "    except ValueError:\n",
        "        print(\"Invalid input. Please enter a non-negative integer.\")\n",
        "\n",
        "calculate_factorial()\n"
      ],
      "metadata": {
        "colab": {
          "base_uri": "https://localhost:8080/"
        },
        "id": "HZVXTWMaVqh1",
        "outputId": "255c678e-ca79-400c-a0fa-1cfa5e38c563"
      },
      "execution_count": 23,
      "outputs": [
        {
          "output_type": "stream",
          "name": "stdout",
          "text": [
            "Enter a non-negative integer to calculate its factorial: 5\n",
            "The factorial of 5 is: 120\n"
          ]
        }
      ]
    }
  ]
}